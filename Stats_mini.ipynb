{
 "cells": [
  {
   "cell_type": "code",
   "execution_count": 161,
   "metadata": {},
   "outputs": [],
   "source": [
    "import numpy as np\n",
    "import pandas as pd\n",
    "from pandas import Series,DataFrame\n",
    "import matplotlib.pyplot as plt\n",
    "import seaborn as sns\n",
    "import warnings\n",
    "warnings.filterwarnings('ignore')\n",
    "import scipy\n",
    "from scipy import stats\n",
    "from scipy.stats import shapiro,levene\n",
    "from scipy.stats import f_oneway\n",
    "from scipy.stats import chi2_contingency\n",
    "from scipy.stats import chi2\n",
    "from scipy.stats import chisquare\n",
    "from statsmodels.stats import weightstats as stests"
   ]
  },
  {
   "cell_type": "markdown",
   "metadata": {},
   "source": [
    "# 1."
   ]
  },
  {
   "cell_type": "markdown",
   "metadata": {},
   "source": [
    "## Reading the Data"
   ]
  },
  {
   "cell_type": "code",
   "execution_count": 2,
   "metadata": {},
   "outputs": [],
   "source": [
    "fifa=pd.read_csv(r'D:\\Supernatural\\D\\Statistics\\Stats_mini\\Stats_mini\\Set-A\\fifa_stats.csv')"
   ]
  },
  {
   "cell_type": "code",
   "execution_count": 3,
   "metadata": {},
   "outputs": [
    {
     "data": {
      "text/html": [
       "<div>\n",
       "<style scoped>\n",
       "    .dataframe tbody tr th:only-of-type {\n",
       "        vertical-align: middle;\n",
       "    }\n",
       "\n",
       "    .dataframe tbody tr th {\n",
       "        vertical-align: top;\n",
       "    }\n",
       "\n",
       "    .dataframe thead th {\n",
       "        text-align: right;\n",
       "    }\n",
       "</style>\n",
       "<table border=\"1\" class=\"dataframe\">\n",
       "  <thead>\n",
       "    <tr style=\"text-align: right;\">\n",
       "      <th></th>\n",
       "      <th>Name</th>\n",
       "      <th>Age</th>\n",
       "      <th>Nationality</th>\n",
       "      <th>Overall_rating</th>\n",
       "      <th>Potential</th>\n",
       "      <th>Club</th>\n",
       "      <th>Preferred Foot</th>\n",
       "      <th>International Reputation</th>\n",
       "      <th>Weak Foot</th>\n",
       "      <th>Skill Moves</th>\n",
       "      <th>Work Rate</th>\n",
       "      <th>Position</th>\n",
       "      <th>Jersey Number</th>\n",
       "      <th>Height</th>\n",
       "      <th>Weight</th>\n",
       "    </tr>\n",
       "  </thead>\n",
       "  <tbody>\n",
       "    <tr>\n",
       "      <th>0</th>\n",
       "      <td>L. Messi</td>\n",
       "      <td>31</td>\n",
       "      <td>Argentina</td>\n",
       "      <td>94</td>\n",
       "      <td>94</td>\n",
       "      <td>FC Barcelona</td>\n",
       "      <td>Left</td>\n",
       "      <td>5</td>\n",
       "      <td>4</td>\n",
       "      <td>4</td>\n",
       "      <td>Medium/ Medium</td>\n",
       "      <td>RF</td>\n",
       "      <td>10</td>\n",
       "      <td>5.583333</td>\n",
       "      <td>159</td>\n",
       "    </tr>\n",
       "    <tr>\n",
       "      <th>1</th>\n",
       "      <td>Cristiano Ronaldo</td>\n",
       "      <td>33</td>\n",
       "      <td>Portugal</td>\n",
       "      <td>94</td>\n",
       "      <td>94</td>\n",
       "      <td>Juventus</td>\n",
       "      <td>Right</td>\n",
       "      <td>5</td>\n",
       "      <td>4</td>\n",
       "      <td>5</td>\n",
       "      <td>High/ Low</td>\n",
       "      <td>ST</td>\n",
       "      <td>7</td>\n",
       "      <td>6.166667</td>\n",
       "      <td>183</td>\n",
       "    </tr>\n",
       "    <tr>\n",
       "      <th>2</th>\n",
       "      <td>Neymar Jr</td>\n",
       "      <td>26</td>\n",
       "      <td>Brazil</td>\n",
       "      <td>92</td>\n",
       "      <td>93</td>\n",
       "      <td>Paris Saint-Germain</td>\n",
       "      <td>Right</td>\n",
       "      <td>5</td>\n",
       "      <td>5</td>\n",
       "      <td>5</td>\n",
       "      <td>High/ Medium</td>\n",
       "      <td>LW</td>\n",
       "      <td>10</td>\n",
       "      <td>5.750000</td>\n",
       "      <td>150</td>\n",
       "    </tr>\n",
       "    <tr>\n",
       "      <th>3</th>\n",
       "      <td>De Gea</td>\n",
       "      <td>27</td>\n",
       "      <td>Spain</td>\n",
       "      <td>91</td>\n",
       "      <td>93</td>\n",
       "      <td>Manchester United</td>\n",
       "      <td>Right</td>\n",
       "      <td>4</td>\n",
       "      <td>3</td>\n",
       "      <td>1</td>\n",
       "      <td>Medium/ Medium</td>\n",
       "      <td>GK</td>\n",
       "      <td>1</td>\n",
       "      <td>6.333333</td>\n",
       "      <td>168</td>\n",
       "    </tr>\n",
       "    <tr>\n",
       "      <th>4</th>\n",
       "      <td>K. De Bruyne</td>\n",
       "      <td>27</td>\n",
       "      <td>Belgium</td>\n",
       "      <td>91</td>\n",
       "      <td>92</td>\n",
       "      <td>Manchester City</td>\n",
       "      <td>Right</td>\n",
       "      <td>4</td>\n",
       "      <td>5</td>\n",
       "      <td>4</td>\n",
       "      <td>High/ High</td>\n",
       "      <td>RCM</td>\n",
       "      <td>7</td>\n",
       "      <td>5.083333</td>\n",
       "      <td>154</td>\n",
       "    </tr>\n",
       "  </tbody>\n",
       "</table>\n",
       "</div>"
      ],
      "text/plain": [
       "                Name  Age Nationality  Overall_rating  Potential  \\\n",
       "0           L. Messi   31   Argentina              94         94   \n",
       "1  Cristiano Ronaldo   33    Portugal              94         94   \n",
       "2          Neymar Jr   26      Brazil              92         93   \n",
       "3             De Gea   27       Spain              91         93   \n",
       "4       K. De Bruyne   27     Belgium              91         92   \n",
       "\n",
       "                  Club Preferred Foot  International Reputation  Weak Foot  \\\n",
       "0         FC Barcelona           Left                         5          4   \n",
       "1             Juventus          Right                         5          4   \n",
       "2  Paris Saint-Germain          Right                         5          5   \n",
       "3    Manchester United          Right                         4          3   \n",
       "4      Manchester City          Right                         4          5   \n",
       "\n",
       "   Skill Moves       Work Rate Position  Jersey Number    Height  Weight  \n",
       "0            4  Medium/ Medium       RF             10  5.583333     159  \n",
       "1            5       High/ Low       ST              7  6.166667     183  \n",
       "2            5    High/ Medium       LW             10  5.750000     150  \n",
       "3            1  Medium/ Medium       GK              1  6.333333     168  \n",
       "4            4      High/ High      RCM              7  5.083333     154  "
      ]
     },
     "execution_count": 3,
     "metadata": {},
     "output_type": "execute_result"
    }
   ],
   "source": [
    "fifa.head()"
   ]
  },
  {
   "cell_type": "code",
   "execution_count": 4,
   "metadata": {},
   "outputs": [
    {
     "data": {
      "text/plain": [
       "(2000, 15)"
      ]
     },
     "execution_count": 4,
     "metadata": {},
     "output_type": "execute_result"
    }
   ],
   "source": [
    "fifa.shape"
   ]
  },
  {
   "cell_type": "markdown",
   "metadata": {},
   "source": [
    "## Understanding the categorical and numerical variables"
   ]
  },
  {
   "cell_type": "code",
   "execution_count": 5,
   "metadata": {},
   "outputs": [
    {
     "name": "stdout",
     "output_type": "stream",
     "text": [
      "<class 'pandas.core.frame.DataFrame'>\n",
      "RangeIndex: 2000 entries, 0 to 1999\n",
      "Data columns (total 15 columns):\n",
      " #   Column                    Non-Null Count  Dtype  \n",
      "---  ------                    --------------  -----  \n",
      " 0   Name                      2000 non-null   object \n",
      " 1   Age                       2000 non-null   int64  \n",
      " 2   Nationality               2000 non-null   object \n",
      " 3   Overall_rating            2000 non-null   int64  \n",
      " 4   Potential                 2000 non-null   int64  \n",
      " 5   Club                      1981 non-null   object \n",
      " 6   Preferred Foot            2000 non-null   object \n",
      " 7   International Reputation  2000 non-null   int64  \n",
      " 8   Weak Foot                 2000 non-null   int64  \n",
      " 9   Skill Moves               2000 non-null   int64  \n",
      " 10  Work Rate                 2000 non-null   object \n",
      " 11  Position                  2000 non-null   object \n",
      " 12  Jersey Number             2000 non-null   int64  \n",
      " 13  Height                    2000 non-null   float64\n",
      " 14  Weight                    2000 non-null   int64  \n",
      "dtypes: float64(1), int64(8), object(6)\n",
      "memory usage: 234.5+ KB\n"
     ]
    }
   ],
   "source": [
    "fifa.info()"
   ]
  },
  {
   "cell_type": "code",
   "execution_count": 6,
   "metadata": {},
   "outputs": [
    {
     "name": "stdout",
     "output_type": "stream",
     "text": [
      "There are 6 categorical columns: ['Name', 'Nationality', 'Club', 'Preferred Foot', 'Work Rate', 'Position']\n"
     ]
    }
   ],
   "source": [
    "cat=fifa.select_dtypes(exclude='number').columns\n",
    "print(\"There are\",len(cat),\"categorical columns:\",list(cat))"
   ]
  },
  {
   "cell_type": "code",
   "execution_count": 7,
   "metadata": {},
   "outputs": [
    {
     "name": "stdout",
     "output_type": "stream",
     "text": [
      "There are 9 numerical columns: ['Age', 'Overall_rating', 'Potential', 'International Reputation', 'Weak Foot', 'Skill Moves', 'Jersey Number', 'Height', 'Weight']\n"
     ]
    }
   ],
   "source": [
    "num=fifa.select_dtypes(include='number').columns\n",
    "print(\"There are\",len(num),\"numerical columns:\",list(num))"
   ]
  },
  {
   "cell_type": "code",
   "execution_count": 8,
   "metadata": {},
   "outputs": [
    {
     "data": {
      "text/html": [
       "<div>\n",
       "<style scoped>\n",
       "    .dataframe tbody tr th:only-of-type {\n",
       "        vertical-align: middle;\n",
       "    }\n",
       "\n",
       "    .dataframe tbody tr th {\n",
       "        vertical-align: top;\n",
       "    }\n",
       "\n",
       "    .dataframe thead th {\n",
       "        text-align: right;\n",
       "    }\n",
       "</style>\n",
       "<table border=\"1\" class=\"dataframe\">\n",
       "  <thead>\n",
       "    <tr style=\"text-align: right;\">\n",
       "      <th></th>\n",
       "      <th>Age</th>\n",
       "      <th>Overall_rating</th>\n",
       "      <th>Potential</th>\n",
       "      <th>International Reputation</th>\n",
       "      <th>Weak Foot</th>\n",
       "      <th>Skill Moves</th>\n",
       "      <th>Jersey Number</th>\n",
       "      <th>Height</th>\n",
       "      <th>Weight</th>\n",
       "    </tr>\n",
       "  </thead>\n",
       "  <tbody>\n",
       "    <tr>\n",
       "      <th>count</th>\n",
       "      <td>2000.000000</td>\n",
       "      <td>2000.000000</td>\n",
       "      <td>2000.000000</td>\n",
       "      <td>2000.000000</td>\n",
       "      <td>2000.000000</td>\n",
       "      <td>2000.000000</td>\n",
       "      <td>2000.000000</td>\n",
       "      <td>2000.000000</td>\n",
       "      <td>2000.000000</td>\n",
       "    </tr>\n",
       "    <tr>\n",
       "      <th>mean</th>\n",
       "      <td>27.231500</td>\n",
       "      <td>78.197000</td>\n",
       "      <td>80.303500</td>\n",
       "      <td>1.774500</td>\n",
       "      <td>3.204000</td>\n",
       "      <td>2.919500</td>\n",
       "      <td>15.205500</td>\n",
       "      <td>5.781042</td>\n",
       "      <td>169.478000</td>\n",
       "    </tr>\n",
       "    <tr>\n",
       "      <th>std</th>\n",
       "      <td>3.859061</td>\n",
       "      <td>3.285969</td>\n",
       "      <td>4.114104</td>\n",
       "      <td>0.811775</td>\n",
       "      <td>0.728457</td>\n",
       "      <td>0.964098</td>\n",
       "      <td>13.210508</td>\n",
       "      <td>0.443337</td>\n",
       "      <td>16.050306</td>\n",
       "    </tr>\n",
       "    <tr>\n",
       "      <th>min</th>\n",
       "      <td>17.000000</td>\n",
       "      <td>75.000000</td>\n",
       "      <td>75.000000</td>\n",
       "      <td>1.000000</td>\n",
       "      <td>1.000000</td>\n",
       "      <td>1.000000</td>\n",
       "      <td>1.000000</td>\n",
       "      <td>5.083333</td>\n",
       "      <td>123.000000</td>\n",
       "    </tr>\n",
       "    <tr>\n",
       "      <th>25%</th>\n",
       "      <td>24.000000</td>\n",
       "      <td>76.000000</td>\n",
       "      <td>77.000000</td>\n",
       "      <td>1.000000</td>\n",
       "      <td>3.000000</td>\n",
       "      <td>2.000000</td>\n",
       "      <td>7.000000</td>\n",
       "      <td>5.500000</td>\n",
       "      <td>159.000000</td>\n",
       "    </tr>\n",
       "    <tr>\n",
       "      <th>50%</th>\n",
       "      <td>27.000000</td>\n",
       "      <td>77.000000</td>\n",
       "      <td>80.000000</td>\n",
       "      <td>2.000000</td>\n",
       "      <td>3.000000</td>\n",
       "      <td>3.000000</td>\n",
       "      <td>12.000000</td>\n",
       "      <td>6.000000</td>\n",
       "      <td>170.000000</td>\n",
       "    </tr>\n",
       "    <tr>\n",
       "      <th>75%</th>\n",
       "      <td>30.000000</td>\n",
       "      <td>80.000000</td>\n",
       "      <td>83.000000</td>\n",
       "      <td>2.000000</td>\n",
       "      <td>4.000000</td>\n",
       "      <td>4.000000</td>\n",
       "      <td>20.000000</td>\n",
       "      <td>6.166667</td>\n",
       "      <td>181.000000</td>\n",
       "    </tr>\n",
       "    <tr>\n",
       "      <th>max</th>\n",
       "      <td>41.000000</td>\n",
       "      <td>94.000000</td>\n",
       "      <td>95.000000</td>\n",
       "      <td>5.000000</td>\n",
       "      <td>5.000000</td>\n",
       "      <td>5.000000</td>\n",
       "      <td>99.000000</td>\n",
       "      <td>6.583333</td>\n",
       "      <td>227.000000</td>\n",
       "    </tr>\n",
       "  </tbody>\n",
       "</table>\n",
       "</div>"
      ],
      "text/plain": [
       "               Age  Overall_rating    Potential  International Reputation  \\\n",
       "count  2000.000000     2000.000000  2000.000000               2000.000000   \n",
       "mean     27.231500       78.197000    80.303500                  1.774500   \n",
       "std       3.859061        3.285969     4.114104                  0.811775   \n",
       "min      17.000000       75.000000    75.000000                  1.000000   \n",
       "25%      24.000000       76.000000    77.000000                  1.000000   \n",
       "50%      27.000000       77.000000    80.000000                  2.000000   \n",
       "75%      30.000000       80.000000    83.000000                  2.000000   \n",
       "max      41.000000       94.000000    95.000000                  5.000000   \n",
       "\n",
       "         Weak Foot  Skill Moves  Jersey Number       Height       Weight  \n",
       "count  2000.000000  2000.000000    2000.000000  2000.000000  2000.000000  \n",
       "mean      3.204000     2.919500      15.205500     5.781042   169.478000  \n",
       "std       0.728457     0.964098      13.210508     0.443337    16.050306  \n",
       "min       1.000000     1.000000       1.000000     5.083333   123.000000  \n",
       "25%       3.000000     2.000000       7.000000     5.500000   159.000000  \n",
       "50%       3.000000     3.000000      12.000000     6.000000   170.000000  \n",
       "75%       4.000000     4.000000      20.000000     6.166667   181.000000  \n",
       "max       5.000000     5.000000      99.000000     6.583333   227.000000  "
      ]
     },
     "execution_count": 8,
     "metadata": {},
     "output_type": "execute_result"
    }
   ],
   "source": [
    "fifa.describe()"
   ]
  },
  {
   "cell_type": "markdown",
   "metadata": {},
   "source": [
    "## For checking how many unique values each variable contains"
   ]
  },
  {
   "cell_type": "code",
   "execution_count": 9,
   "metadata": {},
   "outputs": [
    {
     "data": {
      "text/plain": [
       "Name                        1970\n",
       "Age                           24\n",
       "Nationality                   95\n",
       "Overall_rating                19\n",
       "Potential                     21\n",
       "Club                         285\n",
       "Preferred Foot                 2\n",
       "International Reputation       5\n",
       "Weak Foot                      5\n",
       "Skill Moves                    5\n",
       "Work Rate                      8\n",
       "Position                      27\n",
       "Jersey Number                 67\n",
       "Height                        17\n",
       "Weight                        47\n",
       "dtype: int64"
      ]
     },
     "execution_count": 9,
     "metadata": {},
     "output_type": "execute_result"
    }
   ],
   "source": [
    "fifa.nunique()"
   ]
  },
  {
   "cell_type": "markdown",
   "metadata": {},
   "source": [
    "## Checking the null values in the dataset"
   ]
  },
  {
   "cell_type": "code",
   "execution_count": 10,
   "metadata": {},
   "outputs": [
    {
     "data": {
      "text/plain": [
       "Name                         0\n",
       "Age                          0\n",
       "Nationality                  0\n",
       "Overall_rating               0\n",
       "Potential                    0\n",
       "Club                        19\n",
       "Preferred Foot               0\n",
       "International Reputation     0\n",
       "Weak Foot                    0\n",
       "Skill Moves                  0\n",
       "Work Rate                    0\n",
       "Position                     0\n",
       "Jersey Number                0\n",
       "Height                       0\n",
       "Weight                       0\n",
       "dtype: int64"
      ]
     },
     "execution_count": 10,
     "metadata": {},
     "output_type": "execute_result"
    }
   ],
   "source": [
    "fifa.isnull().sum()"
   ]
  },
  {
   "cell_type": "markdown",
   "metadata": {},
   "source": [
    "## Measures of Central Tendency"
   ]
  },
  {
   "cell_type": "code",
   "execution_count": 11,
   "metadata": {},
   "outputs": [
    {
     "data": {
      "text/plain": [
       "Age                          27.231500\n",
       "Overall_rating               78.197000\n",
       "Potential                    80.303500\n",
       "International Reputation      1.774500\n",
       "Weak Foot                     3.204000\n",
       "Skill Moves                   2.919500\n",
       "Jersey Number                15.205500\n",
       "Height                        5.781042\n",
       "Weight                      169.478000\n",
       "dtype: float64"
      ]
     },
     "execution_count": 11,
     "metadata": {},
     "output_type": "execute_result"
    }
   ],
   "source": [
    "fifa.mean()"
   ]
  },
  {
   "cell_type": "code",
   "execution_count": 12,
   "metadata": {},
   "outputs": [
    {
     "data": {
      "text/plain": [
       "Age                          27.0\n",
       "Overall_rating               77.0\n",
       "Potential                    80.0\n",
       "International Reputation      2.0\n",
       "Weak Foot                     3.0\n",
       "Skill Moves                   3.0\n",
       "Jersey Number                12.0\n",
       "Height                        6.0\n",
       "Weight                      170.0\n",
       "dtype: float64"
      ]
     },
     "execution_count": 12,
     "metadata": {},
     "output_type": "execute_result"
    }
   ],
   "source": [
    "fifa.median()"
   ]
  },
  {
   "cell_type": "code",
   "execution_count": 13,
   "metadata": {},
   "outputs": [
    {
     "data": {
      "text/html": [
       "<div>\n",
       "<style scoped>\n",
       "    .dataframe tbody tr th:only-of-type {\n",
       "        vertical-align: middle;\n",
       "    }\n",
       "\n",
       "    .dataframe tbody tr th {\n",
       "        vertical-align: top;\n",
       "    }\n",
       "\n",
       "    .dataframe thead th {\n",
       "        text-align: right;\n",
       "    }\n",
       "</style>\n",
       "<table border=\"1\" class=\"dataframe\">\n",
       "  <thead>\n",
       "    <tr style=\"text-align: right;\">\n",
       "      <th></th>\n",
       "      <th>Name</th>\n",
       "      <th>Age</th>\n",
       "      <th>Nationality</th>\n",
       "      <th>Overall_rating</th>\n",
       "      <th>Potential</th>\n",
       "      <th>Club</th>\n",
       "      <th>Preferred Foot</th>\n",
       "      <th>International Reputation</th>\n",
       "      <th>Weak Foot</th>\n",
       "      <th>Skill Moves</th>\n",
       "      <th>Work Rate</th>\n",
       "      <th>Position</th>\n",
       "      <th>Jersey Number</th>\n",
       "      <th>Height</th>\n",
       "      <th>Weight</th>\n",
       "    </tr>\n",
       "  </thead>\n",
       "  <tbody>\n",
       "    <tr>\n",
       "      <th>0</th>\n",
       "      <td>Danilo</td>\n",
       "      <td>28.0</td>\n",
       "      <td>Spain</td>\n",
       "      <td>75.0</td>\n",
       "      <td>76.0</td>\n",
       "      <td>Chelsea</td>\n",
       "      <td>Right</td>\n",
       "      <td>1.0</td>\n",
       "      <td>3.0</td>\n",
       "      <td>3.0</td>\n",
       "      <td>Medium/ Medium</td>\n",
       "      <td>GK</td>\n",
       "      <td>10.0</td>\n",
       "      <td>5.083333</td>\n",
       "      <td>165.0</td>\n",
       "    </tr>\n",
       "  </tbody>\n",
       "</table>\n",
       "</div>"
      ],
      "text/plain": [
       "     Name   Age Nationality  Overall_rating  Potential     Club  \\\n",
       "0  Danilo  28.0       Spain            75.0       76.0  Chelsea   \n",
       "\n",
       "  Preferred Foot  International Reputation  Weak Foot  Skill Moves  \\\n",
       "0          Right                       1.0        3.0          3.0   \n",
       "\n",
       "        Work Rate Position  Jersey Number    Height  Weight  \n",
       "0  Medium/ Medium       GK           10.0  5.083333   165.0  "
      ]
     },
     "execution_count": 13,
     "metadata": {},
     "output_type": "execute_result"
    }
   ],
   "source": [
    "fifa.mode().head(1)"
   ]
  },
  {
   "cell_type": "code",
   "execution_count": 14,
   "metadata": {},
   "outputs": [],
   "source": [
    "## Measures of Dispersion"
   ]
  },
  {
   "cell_type": "code",
   "execution_count": 15,
   "metadata": {},
   "outputs": [
    {
     "data": {
      "text/plain": [
       "Age                          41.000000\n",
       "Overall_rating               94.000000\n",
       "Potential                    95.000000\n",
       "International Reputation      5.000000\n",
       "Weak Foot                     5.000000\n",
       "Skill Moves                   5.000000\n",
       "Jersey Number                99.000000\n",
       "Height                        6.583333\n",
       "Weight                      227.000000\n",
       "dtype: float64"
      ]
     },
     "execution_count": 15,
     "metadata": {},
     "output_type": "execute_result"
    }
   ],
   "source": [
    "fifa[num].max()"
   ]
  },
  {
   "cell_type": "code",
   "execution_count": 16,
   "metadata": {},
   "outputs": [
    {
     "data": {
      "text/plain": [
       "Age                          17.000000\n",
       "Overall_rating               75.000000\n",
       "Potential                    75.000000\n",
       "International Reputation      1.000000\n",
       "Weak Foot                     1.000000\n",
       "Skill Moves                   1.000000\n",
       "Jersey Number                 1.000000\n",
       "Height                        5.083333\n",
       "Weight                      123.000000\n",
       "dtype: float64"
      ]
     },
     "execution_count": 16,
     "metadata": {},
     "output_type": "execute_result"
    }
   ],
   "source": [
    "fifa[num].min()"
   ]
  },
  {
   "cell_type": "code",
   "execution_count": 17,
   "metadata": {},
   "outputs": [
    {
     "data": {
      "text/plain": [
       "Age                          24.0\n",
       "Overall_rating               19.0\n",
       "Potential                    20.0\n",
       "International Reputation      4.0\n",
       "Weak Foot                     4.0\n",
       "Skill Moves                   4.0\n",
       "Jersey Number                98.0\n",
       "Height                        1.5\n",
       "Weight                      104.0\n",
       "dtype: float64"
      ]
     },
     "execution_count": 17,
     "metadata": {},
     "output_type": "execute_result"
    }
   ],
   "source": [
    "fifa[num].max()-fifa[num].min()"
   ]
  },
  {
   "cell_type": "code",
   "execution_count": 18,
   "metadata": {},
   "outputs": [
    {
     "data": {
      "text/plain": [
       "Age                          14.892354\n",
       "Overall_rating               10.797590\n",
       "Potential                    16.925851\n",
       "International Reputation      0.658979\n",
       "Weak Foot                     0.530649\n",
       "Skill Moves                   0.929484\n",
       "Jersey Number               174.517529\n",
       "Height                        0.196548\n",
       "Weight                      257.612322\n",
       "dtype: float64"
      ]
     },
     "execution_count": 18,
     "metadata": {},
     "output_type": "execute_result"
    }
   ],
   "source": [
    "fifa[num].var()"
   ]
  },
  {
   "cell_type": "code",
   "execution_count": 19,
   "metadata": {},
   "outputs": [
    {
     "data": {
      "text/plain": [
       "Age                          3.859061\n",
       "Overall_rating               3.285969\n",
       "Potential                    4.114104\n",
       "International Reputation     0.811775\n",
       "Weak Foot                    0.728457\n",
       "Skill Moves                  0.964098\n",
       "Jersey Number               13.210508\n",
       "Height                       0.443337\n",
       "Weight                      16.050306\n",
       "dtype: float64"
      ]
     },
     "execution_count": 19,
     "metadata": {},
     "output_type": "execute_result"
    }
   ],
   "source": [
    "fifa[num].std()"
   ]
  },
  {
   "cell_type": "code",
   "execution_count": 20,
   "metadata": {},
   "outputs": [
    {
     "data": {
      "text/plain": [
       "74.0"
      ]
     },
     "execution_count": 20,
     "metadata": {},
     "output_type": "execute_result"
    }
   ],
   "source": [
    "Q1=np.quantile(fifa[num],0.25)\n",
    "Q3=np.quantile(fifa[num],0.75)\n",
    "IQR=Q3-Q1\n",
    "IQR"
   ]
  },
  {
   "cell_type": "code",
   "execution_count": 21,
   "metadata": {},
   "outputs": [
    {
     "name": "stdout",
     "output_type": "stream",
     "text": [
      "Age : 0.1416777037406235\n",
      "Overall_rating : 0.0420111644778335\n",
      "Potential : 0.0512191276610682\n",
      "International Reputation : 0.45735271545052536\n",
      "Weak Foot : 0.22730170832014832\n",
      "Skill Moves : 0.3301444446497748\n",
      "Jersey Number : 0.8685807912278304\n",
      "Height : 0.07666894467641032\n",
      "Weight : 0.0946806836593331\n"
     ]
    }
   ],
   "source": [
    "from scipy.stats import variation  \n",
    "for i in fifa[num]:\n",
    "    print(i,\":\", scipy.stats.variation(fifa[i],nan_policy='omit'))"
   ]
  },
  {
   "cell_type": "markdown",
   "metadata": {},
   "source": [
    "## Getting count of all the columns in the data"
   ]
  },
  {
   "cell_type": "code",
   "execution_count": 22,
   "metadata": {},
   "outputs": [
    {
     "data": {
      "text/plain": [
       "28    192\n",
       "26    187\n",
       "27    185\n",
       "25    176\n",
       "30    164\n",
       "29    163\n",
       "24    156\n",
       "23    133\n",
       "31    130\n",
       "22    102\n",
       "32     92\n",
       "21     77\n",
       "33     73\n",
       "34     62\n",
       "20     34\n",
       "35     23\n",
       "19     15\n",
       "36     14\n",
       "37     12\n",
       "18      3\n",
       "40      3\n",
       "39      2\n",
       "41      1\n",
       "17      1\n",
       "Name: Age, dtype: int64"
      ]
     },
     "execution_count": 22,
     "metadata": {},
     "output_type": "execute_result"
    }
   ],
   "source": [
    "fifa['Age'].value_counts()"
   ]
  },
  {
   "cell_type": "code",
   "execution_count": 23,
   "metadata": {},
   "outputs": [
    {
     "data": {
      "text/plain": [
       "Spain                 251\n",
       "Brazil                198\n",
       "France                161\n",
       "Argentina             143\n",
       "Germany               126\n",
       "                     ... \n",
       "Dominican Republic      1\n",
       "Bulgaria                1\n",
       "Syria                   1\n",
       "Tanzania                1\n",
       "Mozambique              1\n",
       "Name: Nationality, Length: 95, dtype: int64"
      ]
     },
     "execution_count": 23,
     "metadata": {},
     "output_type": "execute_result"
    }
   ],
   "source": [
    "fifa['Nationality'].value_counts()"
   ]
  },
  {
   "cell_type": "code",
   "execution_count": 24,
   "metadata": {},
   "outputs": [
    {
     "data": {
      "text/plain": [
       "75    429\n",
       "76    373\n",
       "77    304\n",
       "79    171\n",
       "78    168\n",
       "80    143\n",
       "82     94\n",
       "81     93\n",
       "83     70\n",
       "84     45\n",
       "85     33\n",
       "86     22\n",
       "88     17\n",
       "87     13\n",
       "89     11\n",
       "91      6\n",
       "90      5\n",
       "94      2\n",
       "92      1\n",
       "Name: Overall_rating, dtype: int64"
      ]
     },
     "execution_count": 24,
     "metadata": {},
     "output_type": "execute_result"
    }
   ],
   "source": [
    "fifa['Overall_rating'].value_counts()"
   ]
  },
  {
   "cell_type": "code",
   "execution_count": 25,
   "metadata": {},
   "outputs": [
    {
     "data": {
      "text/plain": [
       "76    224\n",
       "77    217\n",
       "75    212\n",
       "80    193\n",
       "79    154\n",
       "78    145\n",
       "81    143\n",
       "83    137\n",
       "82    129\n",
       "84    110\n",
       "85     96\n",
       "86     66\n",
       "87     52\n",
       "88     41\n",
       "89     31\n",
       "90     21\n",
       "91     12\n",
       "92      9\n",
       "93      4\n",
       "94      3\n",
       "95      1\n",
       "Name: Potential, dtype: int64"
      ]
     },
     "execution_count": 25,
     "metadata": {},
     "output_type": "execute_result"
    }
   ],
   "source": [
    "fifa['Potential'].value_counts()"
   ]
  },
  {
   "cell_type": "code",
   "execution_count": 26,
   "metadata": {},
   "outputs": [
    {
     "data": {
      "text/plain": [
       "Chelsea                    24\n",
       "Borussia Dortmund          23\n",
       "Liverpool                  23\n",
       "Napoli                     23\n",
       "Manchester United          23\n",
       "                           ..\n",
       "Nagoya Grampus              1\n",
       "Houston Dynamo              1\n",
       "Legia Warszawa              1\n",
       "Junior FC                   1\n",
       "Real Sporting de GijÃ³n     1\n",
       "Name: Club, Length: 285, dtype: int64"
      ]
     },
     "execution_count": 26,
     "metadata": {},
     "output_type": "execute_result"
    }
   ],
   "source": [
    "fifa['Club'].value_counts()"
   ]
  },
  {
   "cell_type": "code",
   "execution_count": 27,
   "metadata": {},
   "outputs": [
    {
     "data": {
      "text/plain": [
       "Right    1534\n",
       "Left      466\n",
       "Name: Preferred Foot, dtype: int64"
      ]
     },
     "execution_count": 27,
     "metadata": {},
     "output_type": "execute_result"
    }
   ],
   "source": [
    "fifa['Preferred Foot'].value_counts()"
   ]
  },
  {
   "cell_type": "code",
   "execution_count": 28,
   "metadata": {},
   "outputs": [
    {
     "data": {
      "text/plain": [
       "1    866\n",
       "2    782\n",
       "3    295\n",
       "4     51\n",
       "5      6\n",
       "Name: International Reputation, dtype: int64"
      ]
     },
     "execution_count": 28,
     "metadata": {},
     "output_type": "execute_result"
    }
   ],
   "source": [
    "fifa['International Reputation'].value_counts()"
   ]
  },
  {
   "cell_type": "code",
   "execution_count": 29,
   "metadata": {},
   "outputs": [
    {
     "data": {
      "text/plain": [
       "3    1072\n",
       "4     580\n",
       "2     276\n",
       "5      62\n",
       "1      10\n",
       "Name: Weak Foot, dtype: int64"
      ]
     },
     "execution_count": 29,
     "metadata": {},
     "output_type": "execute_result"
    }
   ],
   "source": [
    "fifa['Weak Foot'].value_counts()"
   ]
  },
  {
   "cell_type": "code",
   "execution_count": 30,
   "metadata": {},
   "outputs": [
    {
     "data": {
      "text/plain": [
       "3    828\n",
       "4    544\n",
       "2    395\n",
       "1    194\n",
       "5     39\n",
       "Name: Skill Moves, dtype: int64"
      ]
     },
     "execution_count": 30,
     "metadata": {},
     "output_type": "execute_result"
    }
   ],
   "source": [
    "fifa['Skill Moves'].value_counts()"
   ]
  },
  {
   "cell_type": "code",
   "execution_count": 31,
   "metadata": {},
   "outputs": [
    {
     "data": {
      "text/plain": [
       "Medium/ Medium    733\n",
       "High/ Medium      514\n",
       "Medium/ High      264\n",
       "High/ High        245\n",
       "Medium/ Low        94\n",
       "High/ Low          88\n",
       "Low/ High          38\n",
       "Low/ Medium        24\n",
       "Name: Work Rate, dtype: int64"
      ]
     },
     "execution_count": 31,
     "metadata": {},
     "output_type": "execute_result"
    }
   ],
   "source": [
    "fifa['Work Rate'].value_counts()"
   ]
  },
  {
   "cell_type": "code",
   "execution_count": 32,
   "metadata": {},
   "outputs": [
    {
     "data": {
      "text/plain": [
       "GK     194\n",
       "ST     187\n",
       "RM     133\n",
       "CB     130\n",
       "CAM    126\n",
       "LM     120\n",
       "CM     119\n",
       "LB     110\n",
       "LCB    107\n",
       "RB     105\n",
       "RCB    103\n",
       "CDM     98\n",
       "RCM     77\n",
       "LCM     77\n",
       "LS      50\n",
       "RDM     49\n",
       "RW      45\n",
       "LW      43\n",
       "RS      40\n",
       "LDM     33\n",
       "LWB     15\n",
       "RWB     11\n",
       "CF      11\n",
       "LF       6\n",
       "RF       5\n",
       "RAM      3\n",
       "LAM      3\n",
       "Name: Position, dtype: int64"
      ]
     },
     "execution_count": 32,
     "metadata": {},
     "output_type": "execute_result"
    }
   ],
   "source": [
    "fifa['Position'].value_counts()"
   ]
  },
  {
   "cell_type": "code",
   "execution_count": 33,
   "metadata": {},
   "outputs": [
    {
     "data": {
      "text/plain": [
       "10    125\n",
       "8     107\n",
       "1      95\n",
       "7      95\n",
       "11     91\n",
       "     ... \n",
       "71      1\n",
       "66      1\n",
       "60      1\n",
       "50      1\n",
       "63      1\n",
       "Name: Jersey Number, Length: 67, dtype: int64"
      ]
     },
     "execution_count": 33,
     "metadata": {},
     "output_type": "execute_result"
    }
   ],
   "source": [
    "fifa['Jersey Number'].value_counts()"
   ]
  },
  {
   "cell_type": "code",
   "execution_count": 34,
   "metadata": {},
   "outputs": [
    {
     "data": {
      "text/plain": [
       "5.083333    470\n",
       "6.000000    311\n",
       "6.166667    268\n",
       "5.750000    231\n",
       "6.083333    222\n",
       "6.250000    109\n",
       "5.666667    100\n",
       "6.333333    100\n",
       "5.583333     89\n",
       "6.416667     36\n",
       "5.500000     25\n",
       "6.500000     14\n",
       "5.416667     14\n",
       "5.333333      4\n",
       "5.250000      3\n",
       "6.583333      3\n",
       "5.166667      1\n",
       "Name: Height, dtype: int64"
      ]
     },
     "execution_count": 34,
     "metadata": {},
     "output_type": "execute_result"
    }
   ],
   "source": [
    "fifa['Height'].value_counts()"
   ]
  },
  {
   "cell_type": "code",
   "execution_count": 35,
   "metadata": {},
   "outputs": [
    {
     "data": {
      "text/plain": [
       "165    130\n",
       "176    122\n",
       "154    115\n",
       "172    115\n",
       "168    110\n",
       "163    100\n",
       "159     99\n",
       "170     98\n",
       "161     94\n",
       "181     81\n",
       "174     78\n",
       "187     77\n",
       "183     73\n",
       "179     66\n",
       "185     59\n",
       "157     58\n",
       "150     52\n",
       "190     47\n",
       "152     45\n",
       "148     43\n",
       "146     36\n",
       "194     35\n",
       "143     33\n",
       "192     31\n",
       "196     28\n",
       "198     26\n",
       "141     24\n",
       "139     16\n",
       "201     16\n",
       "203     15\n",
       "137     13\n",
       "134     10\n",
       "207      9\n",
       "132      9\n",
       "205      8\n",
       "209      6\n",
       "130      4\n",
       "214      4\n",
       "128      3\n",
       "216      3\n",
       "212      3\n",
       "126      1\n",
       "227      1\n",
       "223      1\n",
       "218      1\n",
       "220      1\n",
       "123      1\n",
       "Name: Weight, dtype: int64"
      ]
     },
     "execution_count": 35,
     "metadata": {},
     "output_type": "execute_result"
    }
   ],
   "source": [
    "fifa['Weight'].value_counts()"
   ]
  },
  {
   "cell_type": "markdown",
   "metadata": {},
   "source": [
    "## Distribution of Data"
   ]
  },
  {
   "cell_type": "code",
   "execution_count": 36,
   "metadata": {},
   "outputs": [
    {
     "data": {
      "image/png": "[encoded data removed]",
      "text/plain": [
       "<Figure size 1080x720 with 9 Axes>"
      ]
     },
     "metadata": {
      "needs_background": "light"
     },
     "output_type": "display_data"
    }
   ],
   "source": [
    "plt.rcParams[\"figure.figsize\"] = [15,10]\n",
    "fifa.plot(kind = 'density', subplots = True, layout = (3,3), sharex = False)\n",
    "plt.show()"
   ]
  },
  {
   "cell_type": "code",
   "execution_count": 37,
   "metadata": {},
   "outputs": [
    {
     "data": {
      "text/plain": [
       "Age                         0.197101\n",
       "Overall_rating              1.370811\n",
       "Potential                   0.673408\n",
       "International Reputation    0.854724\n",
       "Weak Foot                   0.069733\n",
       "Skill Moves                -0.358327\n",
       "Jersey Number               2.839025\n",
       "Height                     -0.539604\n",
       "Weight                      0.156247\n",
       "dtype: float64"
      ]
     },
     "execution_count": 37,
     "metadata": {},
     "output_type": "execute_result"
    }
   ],
   "source": [
    "fifa.skew()"
   ]
  },
  {
   "cell_type": "markdown",
   "metadata": {},
   "source": [
    "## Univariate Analysis"
   ]
  },
  {
   "cell_type": "code",
   "execution_count": 38,
   "metadata": {},
   "outputs": [
    {
     "data": {
      "image/png": "[encoded data removed]",
      "text/plain": [
       "<Figure size 1080x720 with 1 Axes>"
      ]
     },
     "metadata": {
      "needs_background": "light"
     },
     "output_type": "display_data"
    }
   ],
   "source": [
    "sns.histplot(fifa['Age'])\n",
    "plt.show()"
   ]
  },
  {
   "cell_type": "code",
   "execution_count": 39,
   "metadata": {},
   "outputs": [
    {
     "data": {
      "text/plain": [
       "<function matplotlib.pyplot.show(*args, **kw)>"
      ]
     },
     "execution_count": 39,
     "metadata": {},
     "output_type": "execute_result"
    },
    {
     "data": {
      "image/png": "[encoded data removed]",
      "text/plain": [
       "<Figure size 1080x720 with 1 Axes>"
      ]
     },
     "metadata": {
      "needs_background": "light"
     },
     "output_type": "display_data"
    }
   ],
   "source": [
    "sns.countplot(fifa['Nationality'])\n",
    "plt.xticks(rotation=90)\n",
    "plt.show"
   ]
  },
  {
   "cell_type": "code",
   "execution_count": 40,
   "metadata": {},
   "outputs": [
    {
     "data": {
      "image/png": "[encoded data removed]",
      "text/plain": [
       "<Figure size 1080x720 with 1 Axes>"
      ]
     },
     "metadata": {
      "needs_background": "light"
     },
     "output_type": "display_data"
    }
   ],
   "source": [
    "sns.boxplot(fifa['Overall_rating'])\n",
    "plt.show()"
   ]
  },
  {
   "cell_type": "code",
   "execution_count": 41,
   "metadata": {},
   "outputs": [
    {
     "data": {
      "image/png": "[encoded data removed]",
      "text/plain": [
       "<Figure size 1080x720 with 1 Axes>"
      ]
     },
     "metadata": {
      "needs_background": "light"
     },
     "output_type": "display_data"
    }
   ],
   "source": [
    "sns.boxplot(fifa['Potential'])\n",
    "plt.show()"
   ]
  },
  {
   "cell_type": "code",
   "execution_count": 42,
   "metadata": {},
   "outputs": [
    {
     "data": {
      "image/png": "[encoded data removed]",
      "text/plain": [
       "<Figure size 1080x720 with 1 Axes>"
      ]
     },
     "metadata": {
      "needs_background": "light"
     },
     "output_type": "display_data"
    }
   ],
   "source": [
    "sns.countplot(fifa['Preferred Foot'])\n",
    "plt.show()"
   ]
  },
  {
   "cell_type": "code",
   "execution_count": 43,
   "metadata": {},
   "outputs": [
    {
     "data": {
      "image/png": "[encoded data removed]",
      "text/plain": [
       "<Figure size 1080x720 with 1 Axes>"
      ]
     },
     "metadata": {
      "needs_background": "light"
     },
     "output_type": "display_data"
    }
   ],
   "source": [
    "sns.countplot(fifa['International Reputation'])\n",
    "plt.show()"
   ]
  },
  {
   "cell_type": "code",
   "execution_count": 44,
   "metadata": {},
   "outputs": [
    {
     "data": {
      "image/png": "[encoded data removed]",
      "text/plain": [
       "<Figure size 1080x720 with 1 Axes>"
      ]
     },
     "metadata": {
      "needs_background": "light"
     },
     "output_type": "display_data"
    }
   ],
   "source": [
    "sns.countplot(fifa['Weak Foot'])\n",
    "plt.show()"
   ]
  },
  {
   "cell_type": "code",
   "execution_count": 45,
   "metadata": {},
   "outputs": [
    {
     "data": {
      "image/png": "[encoded data removed]",
      "text/plain": [
       "<Figure size 1080x720 with 1 Axes>"
      ]
     },
     "metadata": {
      "needs_background": "light"
     },
     "output_type": "display_data"
    }
   ],
   "source": [
    "sns.countplot(fifa['Skill Moves'])\n",
    "plt.show()"
   ]
  },
  {
   "cell_type": "code",
   "execution_count": 46,
   "metadata": {},
   "outputs": [
    {
     "data": {
      "image/png": "[encoded data removed]",
      "text/plain": [
       "<Figure size 1080x720 with 1 Axes>"
      ]
     },
     "metadata": {
      "needs_background": "light"
     },
     "output_type": "display_data"
    }
   ],
   "source": [
    "sns.countplot(fifa['Work Rate'])\n",
    "plt.show()"
   ]
  },
  {
   "cell_type": "code",
   "execution_count": 47,
   "metadata": {},
   "outputs": [
    {
     "data": {
      "image/png": "[encoded data removed]",
      "text/plain": [
       "<Figure size 1080x720 with 1 Axes>"
      ]
     },
     "metadata": {
      "needs_background": "light"
     },
     "output_type": "display_data"
    }
   ],
   "source": [
    "sns.countplot(fifa['Position'])\n",
    "plt.show()"
   ]
  },
  {
   "cell_type": "code",
   "execution_count": 48,
   "metadata": {},
   "outputs": [
    {
     "data": {
      "image/png": "[encoded data removed]",
      "text/plain": [
       "<Figure size 1080x720 with 1 Axes>"
      ]
     },
     "metadata": {
      "needs_background": "light"
     },
     "output_type": "display_data"
    }
   ],
   "source": [
    "sns.countplot(fifa['Jersey Number'])\n",
    "plt.show()"
   ]
  },
  {
   "cell_type": "markdown",
   "metadata": {},
   "source": [
    "# Bivariate Analysis"
   ]
  },
  {
   "cell_type": "code",
   "execution_count": 49,
   "metadata": {},
   "outputs": [
    {
     "data": {
      "text/html": [
       "<div>\n",
       "<style scoped>\n",
       "    .dataframe tbody tr th:only-of-type {\n",
       "        vertical-align: middle;\n",
       "    }\n",
       "\n",
       "    .dataframe tbody tr th {\n",
       "        vertical-align: top;\n",
       "    }\n",
       "\n",
       "    .dataframe thead th {\n",
       "        text-align: right;\n",
       "    }\n",
       "</style>\n",
       "<table border=\"1\" class=\"dataframe\">\n",
       "  <thead>\n",
       "    <tr style=\"text-align: right;\">\n",
       "      <th></th>\n",
       "      <th>Name</th>\n",
       "      <th>Age</th>\n",
       "      <th>Nationality</th>\n",
       "      <th>Overall_rating</th>\n",
       "      <th>Potential</th>\n",
       "      <th>Club</th>\n",
       "      <th>Preferred Foot</th>\n",
       "      <th>International Reputation</th>\n",
       "      <th>Weak Foot</th>\n",
       "      <th>Skill Moves</th>\n",
       "      <th>Work Rate</th>\n",
       "      <th>Position</th>\n",
       "      <th>Jersey Number</th>\n",
       "      <th>Height</th>\n",
       "      <th>Weight</th>\n",
       "    </tr>\n",
       "  </thead>\n",
       "  <tbody>\n",
       "    <tr>\n",
       "      <th>0</th>\n",
       "      <td>L. Messi</td>\n",
       "      <td>31</td>\n",
       "      <td>Argentina</td>\n",
       "      <td>94</td>\n",
       "      <td>94</td>\n",
       "      <td>FC Barcelona</td>\n",
       "      <td>Left</td>\n",
       "      <td>5</td>\n",
       "      <td>4</td>\n",
       "      <td>4</td>\n",
       "      <td>Medium/ Medium</td>\n",
       "      <td>RF</td>\n",
       "      <td>10</td>\n",
       "      <td>5.583333</td>\n",
       "      <td>159</td>\n",
       "    </tr>\n",
       "    <tr>\n",
       "      <th>1</th>\n",
       "      <td>Cristiano Ronaldo</td>\n",
       "      <td>33</td>\n",
       "      <td>Portugal</td>\n",
       "      <td>94</td>\n",
       "      <td>94</td>\n",
       "      <td>Juventus</td>\n",
       "      <td>Right</td>\n",
       "      <td>5</td>\n",
       "      <td>4</td>\n",
       "      <td>5</td>\n",
       "      <td>High/ Low</td>\n",
       "      <td>ST</td>\n",
       "      <td>7</td>\n",
       "      <td>6.166667</td>\n",
       "      <td>183</td>\n",
       "    </tr>\n",
       "  </tbody>\n",
       "</table>\n",
       "</div>"
      ],
      "text/plain": [
       "                Name  Age Nationality  Overall_rating  Potential  \\\n",
       "0           L. Messi   31   Argentina              94         94   \n",
       "1  Cristiano Ronaldo   33    Portugal              94         94   \n",
       "\n",
       "           Club Preferred Foot  International Reputation  Weak Foot  \\\n",
       "0  FC Barcelona           Left                         5          4   \n",
       "1      Juventus          Right                         5          4   \n",
       "\n",
       "   Skill Moves       Work Rate Position  Jersey Number    Height  Weight  \n",
       "0            4  Medium/ Medium       RF             10  5.583333     159  \n",
       "1            5       High/ Low       ST              7  6.166667     183  "
      ]
     },
     "execution_count": 49,
     "metadata": {},
     "output_type": "execute_result"
    }
   ],
   "source": [
    "fifa.head(2)"
   ]
  },
  {
   "cell_type": "code",
   "execution_count": 50,
   "metadata": {},
   "outputs": [
    {
     "data": {
      "image/png": "[encoded data removed]",
      "text/plain": [
       "<Figure size 1080x720 with 1 Axes>"
      ]
     },
     "metadata": {
      "needs_background": "light"
     },
     "output_type": "display_data"
    }
   ],
   "source": [
    "sns.scatterplot(fifa['Age'],fifa['Overall_rating'])\n",
    "plt.show()"
   ]
  },
  {
   "cell_type": "code",
   "execution_count": 51,
   "metadata": {},
   "outputs": [
    {
     "data": {
      "image/png": "[encoded data removed]",
      "text/plain": [
       "<Figure size 1080x720 with 1 Axes>"
      ]
     },
     "metadata": {
      "needs_background": "light"
     },
     "output_type": "display_data"
    }
   ],
   "source": [
    "sns.scatterplot(fifa['Potential'],fifa['Overall_rating'])\n",
    "plt.show()"
   ]
  },
  {
   "cell_type": "code",
   "execution_count": 52,
   "metadata": {},
   "outputs": [
    {
     "data": {
      "image/png": "[encoded data removed]",
      "text/plain": [
       "<Figure size 1080x720 with 1 Axes>"
      ]
     },
     "metadata": {
      "needs_background": "light"
     },
     "output_type": "display_data"
    }
   ],
   "source": [
    "sns.boxplot(fifa['Preferred Foot'],fifa['Overall_rating'])\n",
    "plt.show()"
   ]
  },
  {
   "cell_type": "code",
   "execution_count": 53,
   "metadata": {},
   "outputs": [
    {
     "data": {
      "image/png": "[encoded data removed]",
      "text/plain": [
       "<Figure size 1080x720 with 1 Axes>"
      ]
     },
     "metadata": {
      "needs_background": "light"
     },
     "output_type": "display_data"
    }
   ],
   "source": [
    "sns.boxplot(fifa['Skill Moves'],fifa['Overall_rating'])\n",
    "plt.show()"
   ]
  },
  {
   "cell_type": "code",
   "execution_count": 54,
   "metadata": {},
   "outputs": [
    {
     "data": {
      "image/png": "[encoded data removed]",
      "text/plain": [
       "<Figure size 1080x720 with 1 Axes>"
      ]
     },
     "metadata": {
      "needs_background": "light"
     },
     "output_type": "display_data"
    }
   ],
   "source": [
    "sns.boxplot(fifa['Position'],fifa['Overall_rating'])\n",
    "plt.show()"
   ]
  },
  {
   "cell_type": "markdown",
   "metadata": {},
   "source": [
    "# Null Value Treatment"
   ]
  },
  {
   "cell_type": "code",
   "execution_count": 55,
   "metadata": {},
   "outputs": [
    {
     "data": {
      "text/plain": [
       "Name                        0.0000\n",
       "Age                         0.0000\n",
       "Nationality                 0.0000\n",
       "Overall_rating              0.0000\n",
       "Potential                   0.0000\n",
       "Club                        0.0095\n",
       "Preferred Foot              0.0000\n",
       "International Reputation    0.0000\n",
       "Weak Foot                   0.0000\n",
       "Skill Moves                 0.0000\n",
       "Work Rate                   0.0000\n",
       "Position                    0.0000\n",
       "Jersey Number               0.0000\n",
       "Height                      0.0000\n",
       "Weight                      0.0000\n",
       "dtype: float64"
      ]
     },
     "execution_count": 55,
     "metadata": {},
     "output_type": "execute_result"
    }
   ],
   "source": [
    "fifa.isnull().sum()/len(fifa)"
   ]
  },
  {
   "cell_type": "code",
   "execution_count": 56,
   "metadata": {},
   "outputs": [
    {
     "data": {
      "text/html": [
       "<div>\n",
       "<style scoped>\n",
       "    .dataframe tbody tr th:only-of-type {\n",
       "        vertical-align: middle;\n",
       "    }\n",
       "\n",
       "    .dataframe tbody tr th {\n",
       "        vertical-align: top;\n",
       "    }\n",
       "\n",
       "    .dataframe thead th {\n",
       "        text-align: right;\n",
       "    }\n",
       "</style>\n",
       "<table border=\"1\" class=\"dataframe\">\n",
       "  <thead>\n",
       "    <tr style=\"text-align: right;\">\n",
       "      <th></th>\n",
       "      <th>Name</th>\n",
       "      <th>Age</th>\n",
       "      <th>Nationality</th>\n",
       "      <th>Overall_rating</th>\n",
       "      <th>Potential</th>\n",
       "      <th>Club</th>\n",
       "      <th>Preferred Foot</th>\n",
       "      <th>International Reputation</th>\n",
       "      <th>Weak Foot</th>\n",
       "      <th>Skill Moves</th>\n",
       "      <th>Work Rate</th>\n",
       "      <th>Position</th>\n",
       "      <th>Jersey Number</th>\n",
       "      <th>Height</th>\n",
       "      <th>Weight</th>\n",
       "    </tr>\n",
       "  </thead>\n",
       "  <tbody>\n",
       "    <tr>\n",
       "      <th>452</th>\n",
       "      <td>L. Paredes</td>\n",
       "      <td>24</td>\n",
       "      <td>Argentina</td>\n",
       "      <td>80</td>\n",
       "      <td>85</td>\n",
       "      <td>NaN</td>\n",
       "      <td>Right</td>\n",
       "      <td>2</td>\n",
       "      <td>4</td>\n",
       "      <td>4</td>\n",
       "      <td>Medium/ Medium</td>\n",
       "      <td>CM</td>\n",
       "      <td>5</td>\n",
       "      <td>5.083333</td>\n",
       "      <td>165</td>\n",
       "    </tr>\n",
       "    <tr>\n",
       "      <th>538</th>\n",
       "      <td>A. Granqvist</td>\n",
       "      <td>33</td>\n",
       "      <td>Sweden</td>\n",
       "      <td>80</td>\n",
       "      <td>80</td>\n",
       "      <td>NaN</td>\n",
       "      <td>Right</td>\n",
       "      <td>2</td>\n",
       "      <td>4</td>\n",
       "      <td>2</td>\n",
       "      <td>High/ Medium</td>\n",
       "      <td>LCB</td>\n",
       "      <td>4</td>\n",
       "      <td>6.333333</td>\n",
       "      <td>185</td>\n",
       "    </tr>\n",
       "    <tr>\n",
       "      <th>568</th>\n",
       "      <td>A. Lunev</td>\n",
       "      <td>26</td>\n",
       "      <td>Russia</td>\n",
       "      <td>79</td>\n",
       "      <td>81</td>\n",
       "      <td>NaN</td>\n",
       "      <td>Right</td>\n",
       "      <td>1</td>\n",
       "      <td>3</td>\n",
       "      <td>1</td>\n",
       "      <td>Medium/ Medium</td>\n",
       "      <td>GK</td>\n",
       "      <td>12</td>\n",
       "      <td>6.166667</td>\n",
       "      <td>176</td>\n",
       "    </tr>\n",
       "    <tr>\n",
       "      <th>677</th>\n",
       "      <td>I. Smolnikov</td>\n",
       "      <td>29</td>\n",
       "      <td>Russia</td>\n",
       "      <td>79</td>\n",
       "      <td>79</td>\n",
       "      <td>NaN</td>\n",
       "      <td>Right</td>\n",
       "      <td>2</td>\n",
       "      <td>3</td>\n",
       "      <td>3</td>\n",
       "      <td>High/ High</td>\n",
       "      <td>RB</td>\n",
       "      <td>2</td>\n",
       "      <td>5.083333</td>\n",
       "      <td>154</td>\n",
       "    </tr>\n",
       "    <tr>\n",
       "      <th>874</th>\n",
       "      <td>A. Dzyuba</td>\n",
       "      <td>29</td>\n",
       "      <td>Russia</td>\n",
       "      <td>78</td>\n",
       "      <td>78</td>\n",
       "      <td>NaN</td>\n",
       "      <td>Right</td>\n",
       "      <td>2</td>\n",
       "      <td>3</td>\n",
       "      <td>3</td>\n",
       "      <td>High/ Medium</td>\n",
       "      <td>ST</td>\n",
       "      <td>22</td>\n",
       "      <td>6.416667</td>\n",
       "      <td>201</td>\n",
       "    </tr>\n",
       "    <tr>\n",
       "      <th>953</th>\n",
       "      <td>LuÃ­s Neto</td>\n",
       "      <td>30</td>\n",
       "      <td>Portugal</td>\n",
       "      <td>77</td>\n",
       "      <td>77</td>\n",
       "      <td>NaN</td>\n",
       "      <td>Right</td>\n",
       "      <td>1</td>\n",
       "      <td>3</td>\n",
       "      <td>2</td>\n",
       "      <td>Medium/ Medium</td>\n",
       "      <td>CB</td>\n",
       "      <td>4</td>\n",
       "      <td>6.166667</td>\n",
       "      <td>157</td>\n",
       "    </tr>\n",
       "    <tr>\n",
       "      <th>997</th>\n",
       "      <td>D. Kuzyaev</td>\n",
       "      <td>25</td>\n",
       "      <td>Russia</td>\n",
       "      <td>77</td>\n",
       "      <td>80</td>\n",
       "      <td>NaN</td>\n",
       "      <td>Right</td>\n",
       "      <td>1</td>\n",
       "      <td>3</td>\n",
       "      <td>3</td>\n",
       "      <td>Medium/ High</td>\n",
       "      <td>RM</td>\n",
       "      <td>7</td>\n",
       "      <td>6.000000</td>\n",
       "      <td>163</td>\n",
       "    </tr>\n",
       "    <tr>\n",
       "      <th>1008</th>\n",
       "      <td>G. Sio</td>\n",
       "      <td>29</td>\n",
       "      <td>Ivory Coast</td>\n",
       "      <td>77</td>\n",
       "      <td>77</td>\n",
       "      <td>NaN</td>\n",
       "      <td>Left</td>\n",
       "      <td>2</td>\n",
       "      <td>3</td>\n",
       "      <td>3</td>\n",
       "      <td>High/ Low</td>\n",
       "      <td>ST</td>\n",
       "      <td>21</td>\n",
       "      <td>5.083333</td>\n",
       "      <td>176</td>\n",
       "    </tr>\n",
       "    <tr>\n",
       "      <th>1120</th>\n",
       "      <td>J. Villar</td>\n",
       "      <td>41</td>\n",
       "      <td>Paraguay</td>\n",
       "      <td>77</td>\n",
       "      <td>77</td>\n",
       "      <td>NaN</td>\n",
       "      <td>Right</td>\n",
       "      <td>2</td>\n",
       "      <td>3</td>\n",
       "      <td>1</td>\n",
       "      <td>Medium/ Medium</td>\n",
       "      <td>GK</td>\n",
       "      <td>1</td>\n",
       "      <td>5.083333</td>\n",
       "      <td>187</td>\n",
       "    </tr>\n",
       "    <tr>\n",
       "      <th>1271</th>\n",
       "      <td>C. Riveros</td>\n",
       "      <td>35</td>\n",
       "      <td>Paraguay</td>\n",
       "      <td>76</td>\n",
       "      <td>76</td>\n",
       "      <td>NaN</td>\n",
       "      <td>Right</td>\n",
       "      <td>1</td>\n",
       "      <td>3</td>\n",
       "      <td>3</td>\n",
       "      <td>Medium/ Medium</td>\n",
       "      <td>CAM</td>\n",
       "      <td>16</td>\n",
       "      <td>5.083333</td>\n",
       "      <td>163</td>\n",
       "    </tr>\n",
       "    <tr>\n",
       "      <th>1352</th>\n",
       "      <td>B. DzsudzsÃ¡k</td>\n",
       "      <td>31</td>\n",
       "      <td>Hungary</td>\n",
       "      <td>76</td>\n",
       "      <td>76</td>\n",
       "      <td>NaN</td>\n",
       "      <td>Left</td>\n",
       "      <td>3</td>\n",
       "      <td>4</td>\n",
       "      <td>4</td>\n",
       "      <td>Medium/ Medium</td>\n",
       "      <td>RW</td>\n",
       "      <td>7</td>\n",
       "      <td>5.083333</td>\n",
       "      <td>159</td>\n",
       "    </tr>\n",
       "    <tr>\n",
       "      <th>1602</th>\n",
       "      <td>Y. Gazinskiy</td>\n",
       "      <td>28</td>\n",
       "      <td>Russia</td>\n",
       "      <td>75</td>\n",
       "      <td>75</td>\n",
       "      <td>NaN</td>\n",
       "      <td>Left</td>\n",
       "      <td>1</td>\n",
       "      <td>4</td>\n",
       "      <td>3</td>\n",
       "      <td>Medium/ Medium</td>\n",
       "      <td>CDM</td>\n",
       "      <td>4</td>\n",
       "      <td>6.000000</td>\n",
       "      <td>165</td>\n",
       "    </tr>\n",
       "    <tr>\n",
       "      <th>1671</th>\n",
       "      <td>V. CÃ¡ceres</td>\n",
       "      <td>33</td>\n",
       "      <td>Paraguay</td>\n",
       "      <td>75</td>\n",
       "      <td>75</td>\n",
       "      <td>NaN</td>\n",
       "      <td>Right</td>\n",
       "      <td>1</td>\n",
       "      <td>3</td>\n",
       "      <td>3</td>\n",
       "      <td>Medium/ High</td>\n",
       "      <td>RDM</td>\n",
       "      <td>15</td>\n",
       "      <td>6.083333</td>\n",
       "      <td>181</td>\n",
       "    </tr>\n",
       "    <tr>\n",
       "      <th>1819</th>\n",
       "      <td>P. Tau</td>\n",
       "      <td>24</td>\n",
       "      <td>South Africa</td>\n",
       "      <td>75</td>\n",
       "      <td>81</td>\n",
       "      <td>NaN</td>\n",
       "      <td>Right</td>\n",
       "      <td>1</td>\n",
       "      <td>4</td>\n",
       "      <td>4</td>\n",
       "      <td>High/ Medium</td>\n",
       "      <td>RW</td>\n",
       "      <td>19</td>\n",
       "      <td>5.500000</td>\n",
       "      <td>143</td>\n",
       "    </tr>\n",
       "    <tr>\n",
       "      <th>1902</th>\n",
       "      <td>C. Cueva</td>\n",
       "      <td>26</td>\n",
       "      <td>Peru</td>\n",
       "      <td>75</td>\n",
       "      <td>75</td>\n",
       "      <td>NaN</td>\n",
       "      <td>Right</td>\n",
       "      <td>1</td>\n",
       "      <td>4</td>\n",
       "      <td>3</td>\n",
       "      <td>Medium/ Medium</td>\n",
       "      <td>LM</td>\n",
       "      <td>8</td>\n",
       "      <td>5.500000</td>\n",
       "      <td>134</td>\n",
       "    </tr>\n",
       "    <tr>\n",
       "      <th>1907</th>\n",
       "      <td>M. Mevlja</td>\n",
       "      <td>28</td>\n",
       "      <td>Slovenia</td>\n",
       "      <td>75</td>\n",
       "      <td>77</td>\n",
       "      <td>NaN</td>\n",
       "      <td>Right</td>\n",
       "      <td>1</td>\n",
       "      <td>3</td>\n",
       "      <td>2</td>\n",
       "      <td>Medium/ High</td>\n",
       "      <td>LCB</td>\n",
       "      <td>4</td>\n",
       "      <td>6.250000</td>\n",
       "      <td>183</td>\n",
       "    </tr>\n",
       "    <tr>\n",
       "      <th>1933</th>\n",
       "      <td>K. TraorÃ©</td>\n",
       "      <td>26</td>\n",
       "      <td>Ivory Coast</td>\n",
       "      <td>75</td>\n",
       "      <td>75</td>\n",
       "      <td>NaN</td>\n",
       "      <td>Left</td>\n",
       "      <td>1</td>\n",
       "      <td>3</td>\n",
       "      <td>4</td>\n",
       "      <td>High/ Low</td>\n",
       "      <td>CAM</td>\n",
       "      <td>8</td>\n",
       "      <td>5.083333</td>\n",
       "      <td>165</td>\n",
       "    </tr>\n",
       "    <tr>\n",
       "      <th>1936</th>\n",
       "      <td>K. Fofana</td>\n",
       "      <td>26</td>\n",
       "      <td>Ivory Coast</td>\n",
       "      <td>75</td>\n",
       "      <td>75</td>\n",
       "      <td>NaN</td>\n",
       "      <td>Right</td>\n",
       "      <td>1</td>\n",
       "      <td>3</td>\n",
       "      <td>3</td>\n",
       "      <td>Medium/ Medium</td>\n",
       "      <td>ST</td>\n",
       "      <td>22</td>\n",
       "      <td>6.166667</td>\n",
       "      <td>179</td>\n",
       "    </tr>\n",
       "    <tr>\n",
       "      <th>1964</th>\n",
       "      <td>V. Claesson</td>\n",
       "      <td>26</td>\n",
       "      <td>Sweden</td>\n",
       "      <td>75</td>\n",
       "      <td>78</td>\n",
       "      <td>NaN</td>\n",
       "      <td>Right</td>\n",
       "      <td>1</td>\n",
       "      <td>3</td>\n",
       "      <td>3</td>\n",
       "      <td>High/ High</td>\n",
       "      <td>RM</td>\n",
       "      <td>13</td>\n",
       "      <td>6.000000</td>\n",
       "      <td>174</td>\n",
       "    </tr>\n",
       "  </tbody>\n",
       "</table>\n",
       "</div>"
      ],
      "text/plain": [
       "               Name  Age   Nationality  Overall_rating  Potential Club  \\\n",
       "452      L. Paredes   24     Argentina              80         85  NaN   \n",
       "538    A. Granqvist   33        Sweden              80         80  NaN   \n",
       "568        A. Lunev   26        Russia              79         81  NaN   \n",
       "677    I. Smolnikov   29        Russia              79         79  NaN   \n",
       "874       A. Dzyuba   29        Russia              78         78  NaN   \n",
       "953      LuÃ­s Neto   30      Portugal              77         77  NaN   \n",
       "997      D. Kuzyaev   25        Russia              77         80  NaN   \n",
       "1008         G. Sio   29   Ivory Coast              77         77  NaN   \n",
       "1120      J. Villar   41      Paraguay              77         77  NaN   \n",
       "1271     C. Riveros   35      Paraguay              76         76  NaN   \n",
       "1352  B. DzsudzsÃ¡k   31       Hungary              76         76  NaN   \n",
       "1602   Y. Gazinskiy   28        Russia              75         75  NaN   \n",
       "1671    V. CÃ¡ceres   33      Paraguay              75         75  NaN   \n",
       "1819         P. Tau   24  South Africa              75         81  NaN   \n",
       "1902       C. Cueva   26          Peru              75         75  NaN   \n",
       "1907      M. Mevlja   28      Slovenia              75         77  NaN   \n",
       "1933     K. TraorÃ©   26   Ivory Coast              75         75  NaN   \n",
       "1936      K. Fofana   26   Ivory Coast              75         75  NaN   \n",
       "1964    V. Claesson   26        Sweden              75         78  NaN   \n",
       "\n",
       "     Preferred Foot  International Reputation  Weak Foot  Skill Moves  \\\n",
       "452           Right                         2          4            4   \n",
       "538           Right                         2          4            2   \n",
       "568           Right                         1          3            1   \n",
       "677           Right                         2          3            3   \n",
       "874           Right                         2          3            3   \n",
       "953           Right                         1          3            2   \n",
       "997           Right                         1          3            3   \n",
       "1008           Left                         2          3            3   \n",
       "1120          Right                         2          3            1   \n",
       "1271          Right                         1          3            3   \n",
       "1352           Left                         3          4            4   \n",
       "1602           Left                         1          4            3   \n",
       "1671          Right                         1          3            3   \n",
       "1819          Right                         1          4            4   \n",
       "1902          Right                         1          4            3   \n",
       "1907          Right                         1          3            2   \n",
       "1933           Left                         1          3            4   \n",
       "1936          Right                         1          3            3   \n",
       "1964          Right                         1          3            3   \n",
       "\n",
       "           Work Rate Position  Jersey Number    Height  Weight  \n",
       "452   Medium/ Medium       CM              5  5.083333     165  \n",
       "538     High/ Medium      LCB              4  6.333333     185  \n",
       "568   Medium/ Medium       GK             12  6.166667     176  \n",
       "677       High/ High       RB              2  5.083333     154  \n",
       "874     High/ Medium       ST             22  6.416667     201  \n",
       "953   Medium/ Medium       CB              4  6.166667     157  \n",
       "997     Medium/ High       RM              7  6.000000     163  \n",
       "1008       High/ Low       ST             21  5.083333     176  \n",
       "1120  Medium/ Medium       GK              1  5.083333     187  \n",
       "1271  Medium/ Medium      CAM             16  5.083333     163  \n",
       "1352  Medium/ Medium       RW              7  5.083333     159  \n",
       "1602  Medium/ Medium      CDM              4  6.000000     165  \n",
       "1671    Medium/ High      RDM             15  6.083333     181  \n",
       "1819    High/ Medium       RW             19  5.500000     143  \n",
       "1902  Medium/ Medium       LM              8  5.500000     134  \n",
       "1907    Medium/ High      LCB              4  6.250000     183  \n",
       "1933       High/ Low      CAM              8  5.083333     165  \n",
       "1936  Medium/ Medium       ST             22  6.166667     179  \n",
       "1964      High/ High       RM             13  6.000000     174  "
      ]
     },
     "execution_count": 56,
     "metadata": {},
     "output_type": "execute_result"
    }
   ],
   "source": [
    "fifa[fifa['Club'].isnull()]"
   ]
  },
  {
   "cell_type": "code",
   "execution_count": 57,
   "metadata": {},
   "outputs": [],
   "source": [
    "ctry=fifa[fifa['Club'].isnull()]['Nationality'].unique()"
   ]
  },
  {
   "cell_type": "code",
   "execution_count": 58,
   "metadata": {},
   "outputs": [
    {
     "data": {
      "text/plain": [
       "Chelsea                    24\n",
       "Borussia Dortmund          23\n",
       "Liverpool                  23\n",
       "Napoli                     23\n",
       "Manchester United          23\n",
       "                           ..\n",
       "Nagoya Grampus              1\n",
       "Houston Dynamo              1\n",
       "Legia Warszawa              1\n",
       "Junior FC                   1\n",
       "Real Sporting de GijÃ³n     1\n",
       "Name: Club, Length: 285, dtype: int64"
      ]
     },
     "execution_count": 58,
     "metadata": {},
     "output_type": "execute_result"
    }
   ],
   "source": [
    "fifa['Club'].value_counts()"
   ]
  },
  {
   "cell_type": "code",
   "execution_count": 59,
   "metadata": {},
   "outputs": [
    {
     "data": {
      "text/plain": [
       "0    Lokomotiv Moscow\n",
       "dtype: object"
      ]
     },
     "execution_count": 59,
     "metadata": {},
     "output_type": "execute_result"
    }
   ],
   "source": [
    "fifa[fifa['Nationality']=='Russia']['Club'].mode()"
   ]
  },
  {
   "cell_type": "code",
   "execution_count": 60,
   "metadata": {},
   "outputs": [
    {
     "name": "stdout",
     "output_type": "stream",
     "text": [
      "Argentina\n",
      "Boca Juniors\n",
      "Sweden\n",
      "Bologna\n",
      "Russia\n",
      "Lokomotiv Moscow\n",
      "Portugal\n",
      "SC Braga\n",
      "Ivory Coast\n",
      "1. FSV Mainz 05\n",
      "Paraguay\n",
      "Atlanta United\n",
      "Hungary\n",
      "RB Leipzig\n",
      "South Africa\n",
      "Amiens SC\n",
      "Peru\n",
      "Al Hilal\n",
      "Slovenia\n",
      "AS Saint-Ã‰tienne\n"
     ]
    }
   ],
   "source": [
    "for i in ctry:\n",
    "    print(i)\n",
    "    print(fifa[fifa['Nationality']==i]['Club'].mode()[0])"
   ]
  },
  {
   "cell_type": "code",
   "execution_count": 61,
   "metadata": {},
   "outputs": [],
   "source": [
    "for i in ctry:\n",
    "    fifa['Club']=fifa['Club'].fillna(fifa[fifa['Nationality']==i]['Club'].mode()[0])"
   ]
  },
  {
   "cell_type": "code",
   "execution_count": 62,
   "metadata": {},
   "outputs": [
    {
     "data": {
      "text/plain": [
       "Name                        0\n",
       "Age                         0\n",
       "Nationality                 0\n",
       "Overall_rating              0\n",
       "Potential                   0\n",
       "Club                        0\n",
       "Preferred Foot              0\n",
       "International Reputation    0\n",
       "Weak Foot                   0\n",
       "Skill Moves                 0\n",
       "Work Rate                   0\n",
       "Position                    0\n",
       "Jersey Number               0\n",
       "Height                      0\n",
       "Weight                      0\n",
       "dtype: int64"
      ]
     },
     "execution_count": 62,
     "metadata": {},
     "output_type": "execute_result"
    }
   ],
   "source": [
    "fifa.isnull().sum()"
   ]
  },
  {
   "cell_type": "code",
   "execution_count": 63,
   "metadata": {},
   "outputs": [
    {
     "data": {
      "text/html": [
       "<div>\n",
       "<style scoped>\n",
       "    .dataframe tbody tr th:only-of-type {\n",
       "        vertical-align: middle;\n",
       "    }\n",
       "\n",
       "    .dataframe tbody tr th {\n",
       "        vertical-align: top;\n",
       "    }\n",
       "\n",
       "    .dataframe thead th {\n",
       "        text-align: right;\n",
       "    }\n",
       "</style>\n",
       "<table border=\"1\" class=\"dataframe\">\n",
       "  <thead>\n",
       "    <tr style=\"text-align: right;\">\n",
       "      <th></th>\n",
       "      <th>Name</th>\n",
       "      <th>Age</th>\n",
       "      <th>Nationality</th>\n",
       "      <th>Overall_rating</th>\n",
       "      <th>Potential</th>\n",
       "      <th>Club</th>\n",
       "      <th>Preferred Foot</th>\n",
       "      <th>International Reputation</th>\n",
       "      <th>Weak Foot</th>\n",
       "      <th>Skill Moves</th>\n",
       "      <th>Work Rate</th>\n",
       "      <th>Position</th>\n",
       "      <th>Jersey Number</th>\n",
       "      <th>Height</th>\n",
       "      <th>Weight</th>\n",
       "    </tr>\n",
       "  </thead>\n",
       "  <tbody>\n",
       "    <tr>\n",
       "      <th>452</th>\n",
       "      <td>L. Paredes</td>\n",
       "      <td>24</td>\n",
       "      <td>Argentina</td>\n",
       "      <td>80</td>\n",
       "      <td>85</td>\n",
       "      <td>Boca Juniors</td>\n",
       "      <td>Right</td>\n",
       "      <td>2</td>\n",
       "      <td>4</td>\n",
       "      <td>4</td>\n",
       "      <td>Medium/ Medium</td>\n",
       "      <td>CM</td>\n",
       "      <td>5</td>\n",
       "      <td>5.083333</td>\n",
       "      <td>165</td>\n",
       "    </tr>\n",
       "  </tbody>\n",
       "</table>\n",
       "</div>"
      ],
      "text/plain": [
       "           Name  Age Nationality  Overall_rating  Potential          Club  \\\n",
       "452  L. Paredes   24   Argentina              80         85  Boca Juniors   \n",
       "\n",
       "    Preferred Foot  International Reputation  Weak Foot  Skill Moves  \\\n",
       "452          Right                         2          4            4   \n",
       "\n",
       "          Work Rate Position  Jersey Number    Height  Weight  \n",
       "452  Medium/ Medium       CM              5  5.083333     165  "
      ]
     },
     "execution_count": 63,
     "metadata": {},
     "output_type": "execute_result"
    }
   ],
   "source": [
    "fifa[fifa['Name']=='L. Paredes']"
   ]
  },
  {
   "cell_type": "code",
   "execution_count": 64,
   "metadata": {},
   "outputs": [
    {
     "name": "stdout",
     "output_type": "stream",
     "text": [
      "0.0\n",
      "76.0\n",
      "76.0\n"
     ]
    }
   ],
   "source": [
    "Q1=fifa['Overall_rating'].quantile(0.25)\n",
    "Q3=fifa['Overall_rating'].quantile(0.25)\n",
    "IQR=Q3-Q1\n",
    "print(IQR)\n",
    "UB=Q3+(1.5*IQR)\n",
    "print(UB)\n",
    "LB=Q1-(1.5*IQR)\n",
    "print(LB)"
   ]
  },
  {
   "cell_type": "markdown",
   "metadata": {},
   "source": [
    "# Stats"
   ]
  },
  {
   "cell_type": "markdown",
   "metadata": {},
   "source": [
    "Statistics Mini Project\n",
    "\n",
    "1. Perform the following statistical analysis on the fifa world cup dataset. The dataset consists of player information which includes height, weight overall rating, potential etc. Data Cleaning and basic EDA process needs to be performed. \n",
    "\n",
    "a)\tAssuming age as population, perform the central limit theorem with sample size of 200. Find the standard error and the mean of sampling distribution. Compare the results with population mean and standard deviation. Explain in non-technical terms why the estimated standard error of a sample mean tends to decrease with an increase in sample size\n",
    "\n",
    "b)\tIs there any evidence that the players overall rating is greater than 80?\n",
    "\n",
    "c)\tPerform the statistical test to identify whether preferred foot has any impact on potential. Also, perform the graphical analysis.\n",
    "\n",
    "d)\tPerform the statistical test to identify the relation between the overall rating and potential. [Assume both are continuous data points].\n",
    "\n",
    "e)\tDoes skill move have any effect in overall rating. Perform the graphical analysis and the statistical analysis.\n",
    "\n",
    "Note: \n",
    "1) Perform all the Statistical analysis with 5%(Significance level). \n",
    "2) Perform the test of normality and test of variance in the appropriate places."
   ]
  },
  {
   "cell_type": "code",
   "execution_count": 65,
   "metadata": {},
   "outputs": [],
   "source": [
    "# a) Assuming age as population, perform the central limit theorem with sample size of 200. Find the standard error and the mean\n",
    "# of sampling distribution. Compare the results with population mean and standard deviation. Explain in non-technical terms why \n",
    "# the estimated standard error of a sample mean tends to decrease with an increase in sample size"
   ]
  },
  {
   "cell_type": "code",
   "execution_count": 66,
   "metadata": {},
   "outputs": [],
   "source": [
    "import random"
   ]
  },
  {
   "cell_type": "code",
   "execution_count": 67,
   "metadata": {},
   "outputs": [],
   "source": [
    "age_sample=fifa['Age'].sample(n=200,random_state=2)"
   ]
  },
  {
   "cell_type": "code",
   "execution_count": 68,
   "metadata": {},
   "outputs": [
    {
     "name": "stdout",
     "output_type": "stream",
     "text": [
      "ShapiroResult(statistic=0.9885048270225525, pvalue=0.10730356723070145)\n"
     ]
    }
   ],
   "source": [
    "print(shapiro(age_sample))"
   ]
  },
  {
   "cell_type": "code",
   "execution_count": 69,
   "metadata": {},
   "outputs": [
    {
     "data": {
      "text/plain": [
       "0.053856642786600774"
      ]
     },
     "execution_count": 69,
     "metadata": {},
     "output_type": "execute_result"
    }
   ],
   "source": [
    "age_sample.skew()"
   ]
  },
  {
   "cell_type": "code",
   "execution_count": 70,
   "metadata": {},
   "outputs": [
    {
     "data": {
      "image/png": "[encoded data removed]",
      "text/plain": [
       "<Figure size 1080x720 with 1 Axes>"
      ]
     },
     "metadata": {
      "needs_background": "light"
     },
     "output_type": "display_data"
    }
   ],
   "source": [
    "sns.distplot(x=age_sample)\n",
    "plt.show()"
   ]
  },
  {
   "cell_type": "code",
   "execution_count": 71,
   "metadata": {},
   "outputs": [
    {
     "name": "stdout",
     "output_type": "stream",
     "text": [
      "Skewness before transformation: 0.053856642786600774\n",
      "Skewness after transformation: -0.2894974010683146\n"
     ]
    }
   ],
   "source": [
    "print(\"Skewness before transformation:\",age_sample.skew())\n",
    "age_t=np.log(age_sample)\n",
    "print(\"Skewness after transformation:\",age_t.skew())"
   ]
  },
  {
   "cell_type": "code",
   "execution_count": 72,
   "metadata": {},
   "outputs": [
    {
     "data": {
      "image/png": "[encoded data removed]",
      "text/plain": [
       "<Figure size 1080x720 with 1 Axes>"
      ]
     },
     "metadata": {
      "needs_background": "light"
     },
     "output_type": "display_data"
    }
   ],
   "source": [
    "sns.distplot(age_t)\n",
    "plt.show()"
   ]
  },
  {
   "cell_type": "code",
   "execution_count": 73,
   "metadata": {},
   "outputs": [
    {
     "name": "stdout",
     "output_type": "stream",
     "text": [
      "Sampling Error: 0.26455993611844364\n",
      "Mean: 27.04\n"
     ]
    }
   ],
   "source": [
    "n=200\n",
    "se=np.std(age_sample,ddof=1)/np.sqrt(n)\n",
    "print(\"Sampling Error:\",se)\n",
    "print(\"Mean:\",np.mean(age_sample))"
   ]
  },
  {
   "cell_type": "code",
   "execution_count": 74,
   "metadata": {},
   "outputs": [
    {
     "name": "stdout",
     "output_type": "stream",
     "text": [
      "Population Mean: 27.2315\n",
      "Standard Deviation: 3.8590612753574423\n"
     ]
    }
   ],
   "source": [
    "print(\"Population Mean:\",np.mean(fifa['Age']))\n",
    "print(\"Standard Deviation:\",np.std(fifa['Age'],ddof=1))"
   ]
  },
  {
   "cell_type": "code",
   "execution_count": 75,
   "metadata": {},
   "outputs": [],
   "source": [
    "# As we will increase the size of sample, the standard error will decrease."
   ]
  },
  {
   "cell_type": "code",
   "execution_count": 76,
   "metadata": {},
   "outputs": [],
   "source": [
    "# b) Is there any evidence that the players overall rating is greater than 80?"
   ]
  },
  {
   "cell_type": "markdown",
   "metadata": {},
   "source": [
    "The null and alternate hypothesis are given as:\n",
    "    \n",
    "H<sub>0</sub>: $\\mu_{OR} \\leq 80 $<br>\n",
    "H<sub>1</sub>: $\\mu_{OR} > 80 $"
   ]
  },
  {
   "cell_type": "code",
   "execution_count": 77,
   "metadata": {},
   "outputs": [],
   "source": [
    "from scipy.stats import shapiro,levene"
   ]
  },
  {
   "cell_type": "code",
   "execution_count": 78,
   "metadata": {},
   "outputs": [
    {
     "data": {
      "text/plain": [
       "ShapiroResult(statistic=0.8525537848472595, pvalue=1.0221183102662362e-39)"
      ]
     },
     "execution_count": 78,
     "metadata": {},
     "output_type": "execute_result"
    }
   ],
   "source": [
    "shapiro(fifa['Overall_rating'])"
   ]
  },
  {
   "cell_type": "code",
   "execution_count": 159,
   "metadata": {},
   "outputs": [
    {
     "data": {
      "text/plain": [
       "412"
      ]
     },
     "execution_count": 159,
     "metadata": {},
     "output_type": "execute_result"
    }
   ],
   "source": [
    "len(fifa[fifa['Overall_rating']>80])"
   ]
  },
  {
   "cell_type": "code",
   "execution_count": 168,
   "metadata": {},
   "outputs": [
    {
     "name": "stdout",
     "output_type": "stream",
     "text": [
      "Sample Mean: 78.197\n",
      "Critical value: 80.12085807459493\n",
      "P Value: 1.0\n"
     ]
    }
   ],
   "source": [
    "mu=80\n",
    "xbar=np.mean(fifa['Overall_rating'])\n",
    "print(\"Sample Mean:\",xbar)\n",
    "sigma=np.std(fifa['Overall_rating'],ddof=1)\n",
    "n=len(fifa['Overall_rating'])\n",
    "se=sigma/np.sqrt(n)\n",
    "print(\"Critical value:\",stats.norm.isf(0.05,loc=mu,scale=se))\n",
    "print(\"P Value:\",1-stats.norm.cdf(xbar,loc=mu,scale=se))"
   ]
  },
  {
   "cell_type": "code",
   "execution_count": 83,
   "metadata": {},
   "outputs": [],
   "source": [
    "# c) Perform the statistical test to identify whether preferred foot has any impact on potential. Also, perform the graphical \n",
    "# analysis."
   ]
  },
  {
   "cell_type": "code",
   "execution_count": 82,
   "metadata": {},
   "outputs": [],
   "source": [
    "from scipy.stats import chisquare\n",
    "from scipy.stats import chi2_contingency\n",
    "from scipy.stats import chi2"
   ]
  },
  {
   "cell_type": "markdown",
   "metadata": {},
   "source": [
    "The null and alternate hypothesis are given as:\n",
    "    \n",
    "H<sub>0</sub> Preferred foot and Potential are independent of each other.<br>\n",
    "H<sub>1</sub>:Preferred foot and Potential are dependent on each other."
   ]
  },
  {
   "cell_type": "code",
   "execution_count": 84,
   "metadata": {},
   "outputs": [
    {
     "name": "stdout",
     "output_type": "stream",
     "text": [
      "ShapiroResult(statistic=0.9422042369842529, pvalue=1.717341763587954e-12)\n",
      "ShapiroResult(statistic=0.9369121193885803, pvalue=5.342442151473519e-25)\n",
      "LeveneResult(statistic=1.8561933767199223, pvalue=0.17321833707970302)\n",
      "Test statistic: 1.5378037422592814\n",
      "P-value 0.12425494914461453\n",
      "P-value is more than alpha. Hence we fail to reject null hypothesis.\n",
      "Preferred foot and Potential are independent of each other.\n"
     ]
    }
   ],
   "source": [
    "left=fifa[fifa['Preferred Foot']=='Left']['Potential']\n",
    "right=fifa[fifa['Preferred Foot']=='Right']['Potential']\n",
    "print(shapiro(left))\n",
    "print(shapiro(right))\n",
    "print(levene(left,right))\n",
    "stat,pvalue=stats.ttest_ind(left,right)\n",
    "print(\"Test statistic:\",stat)\n",
    "print(\"P-value\",pvalue)\n",
    "print(\"P-value is more than alpha. Hence we fail to reject null hypothesis.\")\n",
    "print(\"Preferred foot and Potential are independent of each other.\")"
   ]
  },
  {
   "cell_type": "code",
   "execution_count": 85,
   "metadata": {},
   "outputs": [
    {
     "data": {
      "image/png": "[encoded data removed]",
      "text/plain": [
       "<Figure size 1080x720 with 1 Axes>"
      ]
     },
     "metadata": {
      "needs_background": "light"
     },
     "output_type": "display_data"
    }
   ],
   "source": [
    "sns.boxplot(x=fifa['Preferred Foot'],y=fifa['Potential'])\n",
    "plt.show()"
   ]
  },
  {
   "cell_type": "code",
   "execution_count": 86,
   "metadata": {},
   "outputs": [],
   "source": [
    "# d) Perform the statistical test to identify the relation between the overall rating and potential. \n",
    "# [Assume both are continuous data points]."
   ]
  },
  {
   "cell_type": "markdown",
   "metadata": {},
   "source": [
    "The null and alternate hypothesis are given as:\n",
    "    \n",
    "H<sub>0</sub>:Overall rating and Potential are related.<br>\n",
    "H<sub>1</sub>:Overall rating and Potential are not related."
   ]
  },
  {
   "cell_type": "code",
   "execution_count": 87,
   "metadata": {},
   "outputs": [],
   "source": [
    "from scipy.stats import f_oneway\n",
    "from scipy.stats import pearsonr"
   ]
  },
  {
   "cell_type": "code",
   "execution_count": 88,
   "metadata": {},
   "outputs": [
    {
     "name": "stdout",
     "output_type": "stream",
     "text": [
      "ShapiroResult(statistic=0.8525537848472595, pvalue=1.0221183102662362e-39)\n",
      "ShapiroResult(statistic=0.9384800791740417, pvalue=5.016414837142018e-28)\n",
      "LeveneResult(statistic=141.9704137312041, pvalue=3.4406841059319607e-32)\n",
      "Correlation coefficient: 0.7326945574179919\n",
      "P-value: 0.0\n",
      "Potential affects the Overall rating of the players as there is correlation of 0.73 which is close to 1.\n"
     ]
    }
   ],
   "source": [
    "over=fifa['Overall_rating']\n",
    "pot=fifa['Potential']\n",
    "print(shapiro(over))\n",
    "print(shapiro(pot))\n",
    "print(levene(over,pot))\n",
    "corr,pvalue=pearsonr(fifa['Overall_rating'],fifa['Potential'])\n",
    "print(\"Correlation coefficient:\",corr)\n",
    "print(\"P-value:\",pvalue)\n",
    "print(\"Potential affects the Overall rating of the players as there is correlation of 0.73 which is close to 1.\")"
   ]
  },
  {
   "cell_type": "code",
   "execution_count": 89,
   "metadata": {},
   "outputs": [],
   "source": [
    "# e) Does skill move have any effect in overall rating. Perform the graphical analysis and the statistical analysis."
   ]
  },
  {
   "cell_type": "markdown",
   "metadata": {},
   "source": [
    "The null and alternate hypothesis are given as:\n",
    "    \n",
    "H<sub>0</sub>:Skill moves have no effect on the Overall Rating.<br>\n",
    "H<sub>1</sub>:Skill moves affect the Overall Rating."
   ]
  },
  {
   "cell_type": "code",
   "execution_count": 90,
   "metadata": {},
   "outputs": [
    {
     "data": {
      "text/html": [
       "<div>\n",
       "<style scoped>\n",
       "    .dataframe tbody tr th:only-of-type {\n",
       "        vertical-align: middle;\n",
       "    }\n",
       "\n",
       "    .dataframe tbody tr th {\n",
       "        vertical-align: top;\n",
       "    }\n",
       "\n",
       "    .dataframe thead th {\n",
       "        text-align: right;\n",
       "    }\n",
       "</style>\n",
       "<table border=\"1\" class=\"dataframe\">\n",
       "  <thead>\n",
       "    <tr style=\"text-align: right;\">\n",
       "      <th>Overall_rating</th>\n",
       "      <th>75</th>\n",
       "      <th>76</th>\n",
       "      <th>77</th>\n",
       "      <th>78</th>\n",
       "      <th>79</th>\n",
       "      <th>80</th>\n",
       "      <th>81</th>\n",
       "      <th>82</th>\n",
       "      <th>83</th>\n",
       "      <th>84</th>\n",
       "      <th>85</th>\n",
       "      <th>86</th>\n",
       "      <th>87</th>\n",
       "      <th>88</th>\n",
       "      <th>89</th>\n",
       "      <th>90</th>\n",
       "      <th>91</th>\n",
       "      <th>92</th>\n",
       "      <th>94</th>\n",
       "    </tr>\n",
       "    <tr>\n",
       "      <th>Skill Moves</th>\n",
       "      <th></th>\n",
       "      <th></th>\n",
       "      <th></th>\n",
       "      <th></th>\n",
       "      <th></th>\n",
       "      <th></th>\n",
       "      <th></th>\n",
       "      <th></th>\n",
       "      <th></th>\n",
       "      <th></th>\n",
       "      <th></th>\n",
       "      <th></th>\n",
       "      <th></th>\n",
       "      <th></th>\n",
       "      <th></th>\n",
       "      <th></th>\n",
       "      <th></th>\n",
       "      <th></th>\n",
       "      <th></th>\n",
       "    </tr>\n",
       "  </thead>\n",
       "  <tbody>\n",
       "    <tr>\n",
       "      <th>1</th>\n",
       "      <td>38</td>\n",
       "      <td>32</td>\n",
       "      <td>23</td>\n",
       "      <td>15</td>\n",
       "      <td>19</td>\n",
       "      <td>18</td>\n",
       "      <td>5</td>\n",
       "      <td>12</td>\n",
       "      <td>13</td>\n",
       "      <td>7</td>\n",
       "      <td>2</td>\n",
       "      <td>1</td>\n",
       "      <td>1</td>\n",
       "      <td>3</td>\n",
       "      <td>3</td>\n",
       "      <td>1</td>\n",
       "      <td>1</td>\n",
       "      <td>0</td>\n",
       "      <td>0</td>\n",
       "    </tr>\n",
       "    <tr>\n",
       "      <th>2</th>\n",
       "      <td>96</td>\n",
       "      <td>78</td>\n",
       "      <td>63</td>\n",
       "      <td>30</td>\n",
       "      <td>24</td>\n",
       "      <td>25</td>\n",
       "      <td>13</td>\n",
       "      <td>20</td>\n",
       "      <td>10</td>\n",
       "      <td>10</td>\n",
       "      <td>12</td>\n",
       "      <td>6</td>\n",
       "      <td>3</td>\n",
       "      <td>2</td>\n",
       "      <td>2</td>\n",
       "      <td>1</td>\n",
       "      <td>0</td>\n",
       "      <td>0</td>\n",
       "      <td>0</td>\n",
       "    </tr>\n",
       "    <tr>\n",
       "      <th>3</th>\n",
       "      <td>219</td>\n",
       "      <td>171</td>\n",
       "      <td>138</td>\n",
       "      <td>64</td>\n",
       "      <td>72</td>\n",
       "      <td>56</td>\n",
       "      <td>28</td>\n",
       "      <td>24</td>\n",
       "      <td>17</td>\n",
       "      <td>11</td>\n",
       "      <td>9</td>\n",
       "      <td>4</td>\n",
       "      <td>7</td>\n",
       "      <td>2</td>\n",
       "      <td>3</td>\n",
       "      <td>1</td>\n",
       "      <td>2</td>\n",
       "      <td>0</td>\n",
       "      <td>0</td>\n",
       "    </tr>\n",
       "    <tr>\n",
       "      <th>4</th>\n",
       "      <td>74</td>\n",
       "      <td>92</td>\n",
       "      <td>75</td>\n",
       "      <td>59</td>\n",
       "      <td>52</td>\n",
       "      <td>41</td>\n",
       "      <td>43</td>\n",
       "      <td>34</td>\n",
       "      <td>27</td>\n",
       "      <td>13</td>\n",
       "      <td>8</td>\n",
       "      <td>9</td>\n",
       "      <td>1</td>\n",
       "      <td>7</td>\n",
       "      <td>3</td>\n",
       "      <td>2</td>\n",
       "      <td>3</td>\n",
       "      <td>0</td>\n",
       "      <td>1</td>\n",
       "    </tr>\n",
       "    <tr>\n",
       "      <th>5</th>\n",
       "      <td>2</td>\n",
       "      <td>0</td>\n",
       "      <td>5</td>\n",
       "      <td>0</td>\n",
       "      <td>4</td>\n",
       "      <td>3</td>\n",
       "      <td>4</td>\n",
       "      <td>4</td>\n",
       "      <td>3</td>\n",
       "      <td>4</td>\n",
       "      <td>2</td>\n",
       "      <td>2</td>\n",
       "      <td>1</td>\n",
       "      <td>3</td>\n",
       "      <td>0</td>\n",
       "      <td>0</td>\n",
       "      <td>0</td>\n",
       "      <td>1</td>\n",
       "      <td>1</td>\n",
       "    </tr>\n",
       "  </tbody>\n",
       "</table>\n",
       "</div>"
      ],
      "text/plain": [
       "Overall_rating   75   76   77  78  79  80  81  82  83  84  85  86  87  88  89  \\\n",
       "Skill Moves                                                                     \n",
       "1                38   32   23  15  19  18   5  12  13   7   2   1   1   3   3   \n",
       "2                96   78   63  30  24  25  13  20  10  10  12   6   3   2   2   \n",
       "3               219  171  138  64  72  56  28  24  17  11   9   4   7   2   3   \n",
       "4                74   92   75  59  52  41  43  34  27  13   8   9   1   7   3   \n",
       "5                 2    0    5   0   4   3   4   4   3   4   2   2   1   3   0   \n",
       "\n",
       "Overall_rating  90  91  92  94  \n",
       "Skill Moves                     \n",
       "1                1   1   0   0  \n",
       "2                1   0   0   0  \n",
       "3                1   2   0   0  \n",
       "4                2   3   0   1  \n",
       "5                0   0   1   1  "
      ]
     },
     "execution_count": 90,
     "metadata": {},
     "output_type": "execute_result"
    }
   ],
   "source": [
    "pd.crosstab(fifa['Skill Moves'],fifa['Overall_rating'])"
   ]
  },
  {
   "cell_type": "code",
   "execution_count": 91,
   "metadata": {},
   "outputs": [
    {
     "data": {
      "image/png": "[encoded data removed]",
      "text/plain": [
       "<Figure size 1080x720 with 1 Axes>"
      ]
     },
     "metadata": {
      "needs_background": "light"
     },
     "output_type": "display_data"
    }
   ],
   "source": [
    "sns.boxplot(fifa['Skill Moves'],fifa['Overall_rating'])\n",
    "plt.show()"
   ]
  },
  {
   "cell_type": "code",
   "execution_count": 92,
   "metadata": {},
   "outputs": [
    {
     "name": "stdout",
     "output_type": "stream",
     "text": [
      "ShapiroResult(statistic=0.877423107624054, pvalue=1.8515081828818225e-11)\n",
      "ShapiroResult(statistic=0.8366187810897827, pvalue=9.018591891126539e-20)\n",
      "ShapiroResult(statistic=0.816904604434967, pvalue=1.1966492618602507e-29)\n",
      "ShapiroResult(statistic=0.89353346824646, pvalue=5.833666454611851e-19)\n",
      "ShapiroResult(statistic=0.9650622010231018, pvalue=0.2619292140007019)\n",
      "LeveneResult(statistic=9.982774544928226, pvalue=5.345915558006616e-08)\n",
      "Test statistic: 31.085141826531746\n",
      "P-value 3.8236370526660514e-25\n",
      "P-value is less than alpha. Hence we reject null hypothesis.\n",
      "Skill moves affect the overall rating of the player.\n"
     ]
    }
   ],
   "source": [
    "one=fifa[fifa['Skill Moves']==1]['Overall_rating']\n",
    "two=fifa[fifa['Skill Moves']==2]['Overall_rating']\n",
    "three=fifa[fifa['Skill Moves']==3]['Overall_rating']\n",
    "four=fifa[fifa['Skill Moves']==4]['Overall_rating']\n",
    "five=fifa[fifa['Skill Moves']==5]['Overall_rating']\n",
    "print(shapiro(one))\n",
    "print(shapiro(two))\n",
    "print(shapiro(three))\n",
    "print(shapiro(four))\n",
    "print(shapiro(five))\n",
    "print(levene(one,two,three,four,five))\n",
    "stat,pvalue=f_oneway(one,two,three,four,five)\n",
    "print(\"Test statistic:\",stat)\n",
    "print(\"P-value\",pvalue)\n",
    "print(\"P-value is less than alpha. Hence we reject null hypothesis.\")\n",
    "print(\"Skill moves affect the overall rating of the player.\")"
   ]
  },
  {
   "cell_type": "markdown",
   "metadata": {},
   "source": [
    "# 2."
   ]
  },
  {
   "cell_type": "markdown",
   "metadata": {},
   "source": [
    "2. Perform the following statistical analysis on the mobile network dataset given. The given data set contains information about the internet, calls, messages of various network. Data Cleaning and basic EDA process needs to be performed. \n",
    "\n",
    "a)\tWith 95% & 99% Confidence Interval find the range estimate of average duration calls made by all the network. Which of the Intervals are wider? Interpret the results.\n",
    "b)\tPerform statistical analysis to check whether the networks are equally distributed in the dataset.\n",
    "c)\tPlot the distribution of duration with respect to each network in the same graph and Interpret the results from the graph.\n",
    "d)\tPerform statistical tests to identify the relation between item and duration. Detailed \n",
    "explanation of relation between the classes is required.\n",
    "e)\tPerform statistical tests to identify the relation between network and network_type. \n",
    "Note: \n",
    "1) Perform all the Statistical analysis with 5%(Significance level). \n",
    "2) Perform the test of normality and test of variance in the appropriate places.\n"
   ]
  },
  {
   "cell_type": "markdown",
   "metadata": {},
   "source": [
    "# Reading the Data"
   ]
  },
  {
   "cell_type": "code",
   "execution_count": 93,
   "metadata": {},
   "outputs": [],
   "source": [
    "df=pd.read_csv('D://Supernatural//D//Statistics//Stats_mini//Stats_mini//Set-A//phone.csv')"
   ]
  },
  {
   "cell_type": "code",
   "execution_count": 94,
   "metadata": {},
   "outputs": [
    {
     "data": {
      "text/html": [
       "<div>\n",
       "<style scoped>\n",
       "    .dataframe tbody tr th:only-of-type {\n",
       "        vertical-align: middle;\n",
       "    }\n",
       "\n",
       "    .dataframe tbody tr th {\n",
       "        vertical-align: top;\n",
       "    }\n",
       "\n",
       "    .dataframe thead th {\n",
       "        text-align: right;\n",
       "    }\n",
       "</style>\n",
       "<table border=\"1\" class=\"dataframe\">\n",
       "  <thead>\n",
       "    <tr style=\"text-align: right;\">\n",
       "      <th></th>\n",
       "      <th>date</th>\n",
       "      <th>duration</th>\n",
       "      <th>item</th>\n",
       "      <th>month</th>\n",
       "      <th>network</th>\n",
       "      <th>network_type</th>\n",
       "    </tr>\n",
       "  </thead>\n",
       "  <tbody>\n",
       "    <tr>\n",
       "      <th>0</th>\n",
       "      <td>15-10-14 6:58</td>\n",
       "      <td>221.321120</td>\n",
       "      <td>data</td>\n",
       "      <td>2014-11</td>\n",
       "      <td>data</td>\n",
       "      <td>data</td>\n",
       "    </tr>\n",
       "    <tr>\n",
       "      <th>1</th>\n",
       "      <td>15-10-14 6:58</td>\n",
       "      <td>81.610599</td>\n",
       "      <td>call</td>\n",
       "      <td>2014-11</td>\n",
       "      <td>Vodafone</td>\n",
       "      <td>mobile</td>\n",
       "    </tr>\n",
       "    <tr>\n",
       "      <th>2</th>\n",
       "      <td>15-10-14 14:46</td>\n",
       "      <td>143.109111</td>\n",
       "      <td>call</td>\n",
       "      <td>2014-11</td>\n",
       "      <td>Meteor</td>\n",
       "      <td>mobile</td>\n",
       "    </tr>\n",
       "    <tr>\n",
       "      <th>3</th>\n",
       "      <td>15-10-14 14:48</td>\n",
       "      <td>111.888670</td>\n",
       "      <td>call</td>\n",
       "      <td>2014-11</td>\n",
       "      <td>Tesco</td>\n",
       "      <td>mobile</td>\n",
       "    </tr>\n",
       "    <tr>\n",
       "      <th>4</th>\n",
       "      <td>15-10-14 17:27</td>\n",
       "      <td>246.695171</td>\n",
       "      <td>call</td>\n",
       "      <td>2014-11</td>\n",
       "      <td>Tesco</td>\n",
       "      <td>mobile</td>\n",
       "    </tr>\n",
       "  </tbody>\n",
       "</table>\n",
       "</div>"
      ],
      "text/plain": [
       "             date    duration  item    month   network network_type\n",
       "0   15-10-14 6:58  221.321120  data  2014-11      data         data\n",
       "1   15-10-14 6:58   81.610599  call  2014-11  Vodafone       mobile\n",
       "2  15-10-14 14:46  143.109111  call  2014-11    Meteor       mobile\n",
       "3  15-10-14 14:48  111.888670  call  2014-11     Tesco       mobile\n",
       "4  15-10-14 17:27  246.695171  call  2014-11     Tesco       mobile"
      ]
     },
     "execution_count": 94,
     "metadata": {},
     "output_type": "execute_result"
    }
   ],
   "source": [
    "df.head()"
   ]
  },
  {
   "cell_type": "code",
   "execution_count": 95,
   "metadata": {},
   "outputs": [
    {
     "data": {
      "text/plain": [
       "(820, 6)"
      ]
     },
     "execution_count": 95,
     "metadata": {},
     "output_type": "execute_result"
    }
   ],
   "source": [
    "df.shape"
   ]
  },
  {
   "cell_type": "markdown",
   "metadata": {},
   "source": [
    "# Understanding the categorical and numerical variables"
   ]
  },
  {
   "cell_type": "code",
   "execution_count": 96,
   "metadata": {},
   "outputs": [
    {
     "name": "stdout",
     "output_type": "stream",
     "text": [
      "<class 'pandas.core.frame.DataFrame'>\n",
      "RangeIndex: 820 entries, 0 to 819\n",
      "Data columns (total 6 columns):\n",
      " #   Column        Non-Null Count  Dtype  \n",
      "---  ------        --------------  -----  \n",
      " 0   date          820 non-null    object \n",
      " 1   duration      820 non-null    float64\n",
      " 2   item          820 non-null    object \n",
      " 3   month         820 non-null    object \n",
      " 4   network       820 non-null    object \n",
      " 5   network_type  820 non-null    object \n",
      "dtypes: float64(1), object(5)\n",
      "memory usage: 38.6+ KB\n"
     ]
    }
   ],
   "source": [
    "df.info()"
   ]
  },
  {
   "cell_type": "code",
   "execution_count": 97,
   "metadata": {},
   "outputs": [
    {
     "data": {
      "text/plain": [
       "0       15-10-14 6:58\n",
       "1       15-10-14 6:58\n",
       "2      15-10-14 14:46\n",
       "3      15-10-14 14:48\n",
       "4      15-10-14 17:27\n",
       "            ...      \n",
       "815     10-03-15 6:58\n",
       "816     11-03-15 6:58\n",
       "817     12-03-15 6:58\n",
       "818     13-03-15 0:39\n",
       "819     13-03-15 6:58\n",
       "Name: date, Length: 820, dtype: object"
      ]
     },
     "execution_count": 97,
     "metadata": {},
     "output_type": "execute_result"
    }
   ],
   "source": [
    "df['date']"
   ]
  },
  {
   "cell_type": "code",
   "execution_count": 98,
   "metadata": {},
   "outputs": [
    {
     "data": {
      "text/plain": [
       "0     2015-10-14 06:58:00\n",
       "1     2015-10-14 06:58:00\n",
       "2     2015-10-14 14:46:00\n",
       "3     2015-10-14 14:48:00\n",
       "4     2015-10-14 17:27:00\n",
       "              ...        \n",
       "815   2010-03-15 06:58:00\n",
       "816   2011-03-15 06:58:00\n",
       "817   2012-03-15 06:58:00\n",
       "818   2013-03-15 00:39:00\n",
       "819   2013-03-15 06:58:00\n",
       "Name: date, Length: 820, dtype: datetime64[ns]"
      ]
     },
     "execution_count": 98,
     "metadata": {},
     "output_type": "execute_result"
    }
   ],
   "source": [
    "df['date']=pd.to_datetime(df['date'],yearfirst=True)\n",
    "df['date']"
   ]
  },
  {
   "cell_type": "code",
   "execution_count": 99,
   "metadata": {},
   "outputs": [],
   "source": [
    "df.drop('month',axis=1,inplace=True)"
   ]
  },
  {
   "cell_type": "code",
   "execution_count": 100,
   "metadata": {},
   "outputs": [
    {
     "name": "stdout",
     "output_type": "stream",
     "text": [
      "<class 'pandas.core.frame.DataFrame'>\n",
      "RangeIndex: 820 entries, 0 to 819\n",
      "Data columns (total 5 columns):\n",
      " #   Column        Non-Null Count  Dtype         \n",
      "---  ------        --------------  -----         \n",
      " 0   date          820 non-null    datetime64[ns]\n",
      " 1   duration      820 non-null    float64       \n",
      " 2   item          820 non-null    object        \n",
      " 3   network       820 non-null    object        \n",
      " 4   network_type  820 non-null    object        \n",
      "dtypes: datetime64[ns](1), float64(1), object(3)\n",
      "memory usage: 32.2+ KB\n"
     ]
    }
   ],
   "source": [
    "df.info()"
   ]
  },
  {
   "cell_type": "code",
   "execution_count": 101,
   "metadata": {},
   "outputs": [
    {
     "name": "stdout",
     "output_type": "stream",
     "text": [
      "There are 3 categorical columns: ['item', 'network', 'network_type']\n"
     ]
    }
   ],
   "source": [
    "cat=df.select_dtypes(include='object').columns\n",
    "print(\"There are\",len(cat),\"categorical columns:\",list(cat))"
   ]
  },
  {
   "cell_type": "code",
   "execution_count": 102,
   "metadata": {},
   "outputs": [
    {
     "name": "stdout",
     "output_type": "stream",
     "text": [
      "There are 1 numerical columns: ['duration']\n"
     ]
    }
   ],
   "source": [
    "num=df.select_dtypes(include='number').columns\n",
    "print(\"There are\",len(num),\"numerical columns:\",list(num))"
   ]
  },
  {
   "cell_type": "code",
   "execution_count": 103,
   "metadata": {},
   "outputs": [
    {
     "data": {
      "text/html": [
       "<div>\n",
       "<style scoped>\n",
       "    .dataframe tbody tr th:only-of-type {\n",
       "        vertical-align: middle;\n",
       "    }\n",
       "\n",
       "    .dataframe tbody tr th {\n",
       "        vertical-align: top;\n",
       "    }\n",
       "\n",
       "    .dataframe thead th {\n",
       "        text-align: right;\n",
       "    }\n",
       "</style>\n",
       "<table border=\"1\" class=\"dataframe\">\n",
       "  <thead>\n",
       "    <tr style=\"text-align: right;\">\n",
       "      <th></th>\n",
       "      <th>duration</th>\n",
       "    </tr>\n",
       "  </thead>\n",
       "  <tbody>\n",
       "    <tr>\n",
       "      <th>count</th>\n",
       "      <td>820.000000</td>\n",
       "    </tr>\n",
       "    <tr>\n",
       "      <th>mean</th>\n",
       "      <td>144.304936</td>\n",
       "    </tr>\n",
       "    <tr>\n",
       "      <th>std</th>\n",
       "      <td>45.687777</td>\n",
       "    </tr>\n",
       "    <tr>\n",
       "      <th>min</th>\n",
       "      <td>0.993514</td>\n",
       "    </tr>\n",
       "    <tr>\n",
       "      <th>25%</th>\n",
       "      <td>112.916486</td>\n",
       "    </tr>\n",
       "    <tr>\n",
       "      <th>50%</th>\n",
       "      <td>144.179434</td>\n",
       "    </tr>\n",
       "    <tr>\n",
       "      <th>75%</th>\n",
       "      <td>175.932308</td>\n",
       "    </tr>\n",
       "    <tr>\n",
       "      <th>max</th>\n",
       "      <td>268.458090</td>\n",
       "    </tr>\n",
       "  </tbody>\n",
       "</table>\n",
       "</div>"
      ],
      "text/plain": [
       "         duration\n",
       "count  820.000000\n",
       "mean   144.304936\n",
       "std     45.687777\n",
       "min      0.993514\n",
       "25%    112.916486\n",
       "50%    144.179434\n",
       "75%    175.932308\n",
       "max    268.458090"
      ]
     },
     "execution_count": 103,
     "metadata": {},
     "output_type": "execute_result"
    }
   ],
   "source": [
    "df.describe()"
   ]
  },
  {
   "cell_type": "markdown",
   "metadata": {},
   "source": [
    "# For checking how many unique values each variable contains"
   ]
  },
  {
   "cell_type": "code",
   "execution_count": 104,
   "metadata": {},
   "outputs": [
    {
     "data": {
      "text/plain": [
       "date            738\n",
       "duration        820\n",
       "item              3\n",
       "network           7\n",
       "network_type      4\n",
       "dtype: int64"
      ]
     },
     "execution_count": 104,
     "metadata": {},
     "output_type": "execute_result"
    }
   ],
   "source": [
    "df.nunique()"
   ]
  },
  {
   "cell_type": "markdown",
   "metadata": {},
   "source": [
    "# Checking the null values in the dataset"
   ]
  },
  {
   "cell_type": "code",
   "execution_count": 105,
   "metadata": {},
   "outputs": [
    {
     "data": {
      "text/plain": [
       "date            0\n",
       "duration        0\n",
       "item            0\n",
       "network         0\n",
       "network_type    0\n",
       "dtype: int64"
      ]
     },
     "execution_count": 105,
     "metadata": {},
     "output_type": "execute_result"
    }
   ],
   "source": [
    "df.isnull().sum()"
   ]
  },
  {
   "cell_type": "markdown",
   "metadata": {},
   "source": [
    "# Measures of Central Tendency"
   ]
  },
  {
   "cell_type": "code",
   "execution_count": 106,
   "metadata": {},
   "outputs": [
    {
     "data": {
      "text/plain": [
       "duration    144.304936\n",
       "dtype: float64"
      ]
     },
     "execution_count": 106,
     "metadata": {},
     "output_type": "execute_result"
    }
   ],
   "source": [
    "df.mean()"
   ]
  },
  {
   "cell_type": "code",
   "execution_count": 107,
   "metadata": {},
   "outputs": [
    {
     "data": {
      "text/plain": [
       "duration    144.179434\n",
       "dtype: float64"
      ]
     },
     "execution_count": 107,
     "metadata": {},
     "output_type": "execute_result"
    }
   ],
   "source": [
    "df.median()"
   ]
  },
  {
   "cell_type": "code",
   "execution_count": 108,
   "metadata": {},
   "outputs": [
    {
     "data": {
      "text/html": [
       "<div>\n",
       "<style scoped>\n",
       "    .dataframe tbody tr th:only-of-type {\n",
       "        vertical-align: middle;\n",
       "    }\n",
       "\n",
       "    .dataframe tbody tr th {\n",
       "        vertical-align: top;\n",
       "    }\n",
       "\n",
       "    .dataframe thead th {\n",
       "        text-align: right;\n",
       "    }\n",
       "</style>\n",
       "<table border=\"1\" class=\"dataframe\">\n",
       "  <thead>\n",
       "    <tr style=\"text-align: right;\">\n",
       "      <th></th>\n",
       "      <th>date</th>\n",
       "      <th>duration</th>\n",
       "      <th>item</th>\n",
       "      <th>network</th>\n",
       "      <th>network_type</th>\n",
       "    </tr>\n",
       "  </thead>\n",
       "  <tbody>\n",
       "    <tr>\n",
       "      <th>0</th>\n",
       "      <td>2016-01-15 18:07:00</td>\n",
       "      <td>0.993514</td>\n",
       "      <td>call</td>\n",
       "      <td>Three</td>\n",
       "      <td>mobile</td>\n",
       "    </tr>\n",
       "  </tbody>\n",
       "</table>\n",
       "</div>"
      ],
      "text/plain": [
       "                 date  duration  item network network_type\n",
       "0 2016-01-15 18:07:00  0.993514  call   Three       mobile"
      ]
     },
     "execution_count": 108,
     "metadata": {},
     "output_type": "execute_result"
    }
   ],
   "source": [
    "df.mode().head(1)"
   ]
  },
  {
   "cell_type": "markdown",
   "metadata": {},
   "source": [
    "# Measures of Dispersion"
   ]
  },
  {
   "cell_type": "code",
   "execution_count": 109,
   "metadata": {},
   "outputs": [
    {
     "data": {
      "text/plain": [
       "duration    268.45809\n",
       "dtype: float64"
      ]
     },
     "execution_count": 109,
     "metadata": {},
     "output_type": "execute_result"
    }
   ],
   "source": [
    "df[num].max()"
   ]
  },
  {
   "cell_type": "code",
   "execution_count": 110,
   "metadata": {},
   "outputs": [
    {
     "data": {
      "text/plain": [
       "duration    144.304936\n",
       "dtype: float64"
      ]
     },
     "execution_count": 110,
     "metadata": {},
     "output_type": "execute_result"
    }
   ],
   "source": [
    "df[num].mean()"
   ]
  },
  {
   "cell_type": "code",
   "execution_count": 111,
   "metadata": {},
   "outputs": [
    {
     "data": {
      "text/plain": [
       "duration    124.153155\n",
       "dtype: float64"
      ]
     },
     "execution_count": 111,
     "metadata": {},
     "output_type": "execute_result"
    }
   ],
   "source": [
    "df[num].max()-df[num].mean()"
   ]
  },
  {
   "cell_type": "code",
   "execution_count": 112,
   "metadata": {},
   "outputs": [
    {
     "data": {
      "text/plain": [
       "duration    2087.372951\n",
       "dtype: float64"
      ]
     },
     "execution_count": 112,
     "metadata": {},
     "output_type": "execute_result"
    }
   ],
   "source": [
    "df[num].var()"
   ]
  },
  {
   "cell_type": "code",
   "execution_count": 113,
   "metadata": {},
   "outputs": [
    {
     "data": {
      "text/plain": [
       "duration    45.687777\n",
       "dtype: float64"
      ]
     },
     "execution_count": 113,
     "metadata": {},
     "output_type": "execute_result"
    }
   ],
   "source": [
    "df[num].std()"
   ]
  },
  {
   "cell_type": "code",
   "execution_count": 114,
   "metadata": {},
   "outputs": [
    {
     "data": {
      "text/plain": [
       "63.01582140249997"
      ]
     },
     "execution_count": 114,
     "metadata": {},
     "output_type": "execute_result"
    }
   ],
   "source": [
    "Q1=np.quantile(df[num],0.25)\n",
    "Q3=np.quantile(df[num],0.75)\n",
    "IQR=Q3-Q1\n",
    "IQR"
   ]
  },
  {
   "cell_type": "code",
   "execution_count": 115,
   "metadata": {},
   "outputs": [
    {
     "name": "stdout",
     "output_type": "stream",
     "text": [
      "duration : 0.31641266980559407\n"
     ]
    }
   ],
   "source": [
    "from scipy.stats import variation  \n",
    "for i in df[num]:\n",
    "    print(i,\":\", scipy.stats.variation(df[i],nan_policy='omit'))"
   ]
  },
  {
   "cell_type": "markdown",
   "metadata": {},
   "source": [
    "# Getting count of all the columns in the data"
   ]
  },
  {
   "cell_type": "code",
   "execution_count": 116,
   "metadata": {},
   "outputs": [
    {
     "data": {
      "text/html": [
       "<div>\n",
       "<style scoped>\n",
       "    .dataframe tbody tr th:only-of-type {\n",
       "        vertical-align: middle;\n",
       "    }\n",
       "\n",
       "    .dataframe tbody tr th {\n",
       "        vertical-align: top;\n",
       "    }\n",
       "\n",
       "    .dataframe thead th {\n",
       "        text-align: right;\n",
       "    }\n",
       "</style>\n",
       "<table border=\"1\" class=\"dataframe\">\n",
       "  <thead>\n",
       "    <tr style=\"text-align: right;\">\n",
       "      <th></th>\n",
       "      <th>date</th>\n",
       "      <th>duration</th>\n",
       "      <th>item</th>\n",
       "      <th>network</th>\n",
       "      <th>network_type</th>\n",
       "    </tr>\n",
       "  </thead>\n",
       "  <tbody>\n",
       "    <tr>\n",
       "      <th>0</th>\n",
       "      <td>2015-10-14 06:58:00</td>\n",
       "      <td>221.321120</td>\n",
       "      <td>data</td>\n",
       "      <td>data</td>\n",
       "      <td>data</td>\n",
       "    </tr>\n",
       "    <tr>\n",
       "      <th>1</th>\n",
       "      <td>2015-10-14 06:58:00</td>\n",
       "      <td>81.610599</td>\n",
       "      <td>call</td>\n",
       "      <td>Vodafone</td>\n",
       "      <td>mobile</td>\n",
       "    </tr>\n",
       "    <tr>\n",
       "      <th>2</th>\n",
       "      <td>2015-10-14 14:46:00</td>\n",
       "      <td>143.109111</td>\n",
       "      <td>call</td>\n",
       "      <td>Meteor</td>\n",
       "      <td>mobile</td>\n",
       "    </tr>\n",
       "    <tr>\n",
       "      <th>3</th>\n",
       "      <td>2015-10-14 14:48:00</td>\n",
       "      <td>111.888670</td>\n",
       "      <td>call</td>\n",
       "      <td>Tesco</td>\n",
       "      <td>mobile</td>\n",
       "    </tr>\n",
       "    <tr>\n",
       "      <th>4</th>\n",
       "      <td>2015-10-14 17:27:00</td>\n",
       "      <td>246.695171</td>\n",
       "      <td>call</td>\n",
       "      <td>Tesco</td>\n",
       "      <td>mobile</td>\n",
       "    </tr>\n",
       "  </tbody>\n",
       "</table>\n",
       "</div>"
      ],
      "text/plain": [
       "                 date    duration  item   network network_type\n",
       "0 2015-10-14 06:58:00  221.321120  data      data         data\n",
       "1 2015-10-14 06:58:00   81.610599  call  Vodafone       mobile\n",
       "2 2015-10-14 14:46:00  143.109111  call    Meteor       mobile\n",
       "3 2015-10-14 14:48:00  111.888670  call     Tesco       mobile\n",
       "4 2015-10-14 17:27:00  246.695171  call     Tesco       mobile"
      ]
     },
     "execution_count": 116,
     "metadata": {},
     "output_type": "execute_result"
    }
   ],
   "source": [
    "df.head()"
   ]
  },
  {
   "cell_type": "code",
   "execution_count": 117,
   "metadata": {},
   "outputs": [
    {
     "data": {
      "text/plain": [
       "2016-01-15 18:07:00    6\n",
       "2030-12-14 12:05:00    4\n",
       "2002-02-15 17:35:00    4\n",
       "2027-12-14 22:30:00    4\n",
       "2017-10-14 17:44:00    3\n",
       "                      ..\n",
       "2003-03-15 10:12:00    1\n",
       "2005-12-14 06:58:00    1\n",
       "2025-11-14 06:58:00    1\n",
       "2019-12-14 10:14:00    1\n",
       "2017-12-14 23:26:00    1\n",
       "Name: date, Length: 738, dtype: int64"
      ]
     },
     "execution_count": 117,
     "metadata": {},
     "output_type": "execute_result"
    }
   ],
   "source": [
    "df['date'].value_counts()"
   ]
  },
  {
   "cell_type": "code",
   "execution_count": 118,
   "metadata": {},
   "outputs": [
    {
     "data": {
      "text/plain": [
       "Vodafone     215\n",
       "Three        215\n",
       "data         150\n",
       "Meteor        87\n",
       "Tesco         84\n",
       "landline      42\n",
       "voicemail     27\n",
       "Name: network, dtype: int64"
      ]
     },
     "execution_count": 118,
     "metadata": {},
     "output_type": "execute_result"
    }
   ],
   "source": [
    "df['network'].value_counts()"
   ]
  },
  {
   "cell_type": "code",
   "execution_count": 119,
   "metadata": {},
   "outputs": [
    {
     "data": {
      "text/plain": [
       "mobile       601\n",
       "data         150\n",
       "landline      42\n",
       "voicemail     27\n",
       "Name: network_type, dtype: int64"
      ]
     },
     "execution_count": 119,
     "metadata": {},
     "output_type": "execute_result"
    }
   ],
   "source": [
    "df['network_type'].value_counts()"
   ]
  },
  {
   "cell_type": "markdown",
   "metadata": {},
   "source": [
    "# Distribution of Data"
   ]
  },
  {
   "cell_type": "code",
   "execution_count": 120,
   "metadata": {},
   "outputs": [
    {
     "data": {
      "image/png": "[encoded data removed]",
      "text/plain": [
       "<Figure size 1080x576 with 9 Axes>"
      ]
     },
     "metadata": {
      "needs_background": "light"
     },
     "output_type": "display_data"
    }
   ],
   "source": [
    "plt.rcParams['figure.figsize']=[15,8]\n",
    "df[num].plot(kind='density',subplots=True,layout=(3,3),sharex=False)\n",
    "plt.show()"
   ]
  },
  {
   "cell_type": "code",
   "execution_count": 121,
   "metadata": {},
   "outputs": [
    {
     "data": {
      "text/plain": [
       "duration    0.005764\n",
       "dtype: float64"
      ]
     },
     "execution_count": 121,
     "metadata": {},
     "output_type": "execute_result"
    }
   ],
   "source": [
    "df.skew()"
   ]
  },
  {
   "cell_type": "markdown",
   "metadata": {},
   "source": [
    "# Univariate Analysis"
   ]
  },
  {
   "cell_type": "code",
   "execution_count": 122,
   "metadata": {},
   "outputs": [
    {
     "data": {
      "text/html": [
       "<div>\n",
       "<style scoped>\n",
       "    .dataframe tbody tr th:only-of-type {\n",
       "        vertical-align: middle;\n",
       "    }\n",
       "\n",
       "    .dataframe tbody tr th {\n",
       "        vertical-align: top;\n",
       "    }\n",
       "\n",
       "    .dataframe thead th {\n",
       "        text-align: right;\n",
       "    }\n",
       "</style>\n",
       "<table border=\"1\" class=\"dataframe\">\n",
       "  <thead>\n",
       "    <tr style=\"text-align: right;\">\n",
       "      <th></th>\n",
       "      <th>date</th>\n",
       "      <th>duration</th>\n",
       "      <th>item</th>\n",
       "      <th>network</th>\n",
       "      <th>network_type</th>\n",
       "    </tr>\n",
       "  </thead>\n",
       "  <tbody>\n",
       "    <tr>\n",
       "      <th>0</th>\n",
       "      <td>2015-10-14 06:58:00</td>\n",
       "      <td>221.321120</td>\n",
       "      <td>data</td>\n",
       "      <td>data</td>\n",
       "      <td>data</td>\n",
       "    </tr>\n",
       "    <tr>\n",
       "      <th>1</th>\n",
       "      <td>2015-10-14 06:58:00</td>\n",
       "      <td>81.610599</td>\n",
       "      <td>call</td>\n",
       "      <td>Vodafone</td>\n",
       "      <td>mobile</td>\n",
       "    </tr>\n",
       "  </tbody>\n",
       "</table>\n",
       "</div>"
      ],
      "text/plain": [
       "                 date    duration  item   network network_type\n",
       "0 2015-10-14 06:58:00  221.321120  data      data         data\n",
       "1 2015-10-14 06:58:00   81.610599  call  Vodafone       mobile"
      ]
     },
     "execution_count": 122,
     "metadata": {},
     "output_type": "execute_result"
    }
   ],
   "source": [
    "df.head(2)"
   ]
  },
  {
   "cell_type": "code",
   "execution_count": 123,
   "metadata": {},
   "outputs": [
    {
     "data": {
      "image/png": "[encoded data removed]",
      "text/plain": [
       "<Figure size 1080x576 with 1 Axes>"
      ]
     },
     "metadata": {
      "needs_background": "light"
     },
     "output_type": "display_data"
    }
   ],
   "source": [
    "sns.histplot(df['date'])\n",
    "plt.show()"
   ]
  },
  {
   "cell_type": "code",
   "execution_count": 124,
   "metadata": {},
   "outputs": [
    {
     "data": {
      "image/png": "[encoded data removed]",
      "text/plain": [
       "<Figure size 1080x576 with 1 Axes>"
      ]
     },
     "metadata": {
      "needs_background": "light"
     },
     "output_type": "display_data"
    }
   ],
   "source": [
    "sns.histplot(df['duration'])\n",
    "plt.show()"
   ]
  },
  {
   "cell_type": "code",
   "execution_count": 125,
   "metadata": {},
   "outputs": [
    {
     "data": {
      "image/png": "[encoded data removed]",
      "text/plain": [
       "<Figure size 1080x576 with 1 Axes>"
      ]
     },
     "metadata": {
      "needs_background": "light"
     },
     "output_type": "display_data"
    }
   ],
   "source": [
    "sns.countplot(df['item'])\n",
    "plt.show()"
   ]
  },
  {
   "cell_type": "code",
   "execution_count": 126,
   "metadata": {},
   "outputs": [
    {
     "data": {
      "image/png": "[encoded data removed]",
      "text/plain": [
       "<Figure size 1080x576 with 1 Axes>"
      ]
     },
     "metadata": {
      "needs_background": "light"
     },
     "output_type": "display_data"
    }
   ],
   "source": [
    "sns.countplot(df['network'])\n",
    "plt.show()"
   ]
  },
  {
   "cell_type": "code",
   "execution_count": 127,
   "metadata": {},
   "outputs": [
    {
     "data": {
      "image/png": "[encoded data removed]",
      "text/plain": [
       "<Figure size 1080x576 with 1 Axes>"
      ]
     },
     "metadata": {
      "needs_background": "light"
     },
     "output_type": "display_data"
    }
   ],
   "source": [
    "sns.countplot(df['network_type'])\n",
    "plt.show()"
   ]
  },
  {
   "cell_type": "markdown",
   "metadata": {},
   "source": [
    "# Bivariate Analysis"
   ]
  },
  {
   "cell_type": "code",
   "execution_count": 128,
   "metadata": {},
   "outputs": [
    {
     "data": {
      "image/png": "[encoded data removed]",
      "text/plain": [
       "<Figure size 1080x576 with 1 Axes>"
      ]
     },
     "metadata": {
      "needs_background": "light"
     },
     "output_type": "display_data"
    }
   ],
   "source": [
    "sns.barplot(df['item'],df['duration'])\n",
    "plt.show()"
   ]
  },
  {
   "cell_type": "code",
   "execution_count": 129,
   "metadata": {},
   "outputs": [
    {
     "data": {
      "image/png": "[encoded data removed]",
      "text/plain": [
       "<Figure size 1080x576 with 1 Axes>"
      ]
     },
     "metadata": {
      "needs_background": "light"
     },
     "output_type": "display_data"
    }
   ],
   "source": [
    "sns.barplot(df['network'],df['duration'])\n",
    "plt.show()"
   ]
  },
  {
   "cell_type": "code",
   "execution_count": 130,
   "metadata": {},
   "outputs": [
    {
     "data": {
      "image/png": "[encoded data removed]",
      "text/plain": [
       "<Figure size 1080x576 with 1 Axes>"
      ]
     },
     "metadata": {
      "needs_background": "light"
     },
     "output_type": "display_data"
    }
   ],
   "source": [
    "sns.barplot(df['network_type'],df['duration'])\n",
    "plt.show()"
   ]
  },
  {
   "cell_type": "code",
   "execution_count": 131,
   "metadata": {},
   "outputs": [
    {
     "data": {
      "text/html": [
       "<div>\n",
       "<style scoped>\n",
       "    .dataframe tbody tr th:only-of-type {\n",
       "        vertical-align: middle;\n",
       "    }\n",
       "\n",
       "    .dataframe tbody tr th {\n",
       "        vertical-align: top;\n",
       "    }\n",
       "\n",
       "    .dataframe thead th {\n",
       "        text-align: right;\n",
       "    }\n",
       "</style>\n",
       "<table border=\"1\" class=\"dataframe\">\n",
       "  <thead>\n",
       "    <tr style=\"text-align: right;\">\n",
       "      <th>network</th>\n",
       "      <th>Meteor</th>\n",
       "      <th>Tesco</th>\n",
       "      <th>Three</th>\n",
       "      <th>Vodafone</th>\n",
       "      <th>data</th>\n",
       "      <th>landline</th>\n",
       "      <th>voicemail</th>\n",
       "    </tr>\n",
       "    <tr>\n",
       "      <th>item</th>\n",
       "      <th></th>\n",
       "      <th></th>\n",
       "      <th></th>\n",
       "      <th></th>\n",
       "      <th></th>\n",
       "      <th></th>\n",
       "      <th></th>\n",
       "    </tr>\n",
       "  </thead>\n",
       "  <tbody>\n",
       "    <tr>\n",
       "      <th>call</th>\n",
       "      <td>54</td>\n",
       "      <td>71</td>\n",
       "      <td>128</td>\n",
       "      <td>66</td>\n",
       "      <td>0</td>\n",
       "      <td>42</td>\n",
       "      <td>27</td>\n",
       "    </tr>\n",
       "    <tr>\n",
       "      <th>data</th>\n",
       "      <td>0</td>\n",
       "      <td>0</td>\n",
       "      <td>0</td>\n",
       "      <td>0</td>\n",
       "      <td>150</td>\n",
       "      <td>0</td>\n",
       "      <td>0</td>\n",
       "    </tr>\n",
       "    <tr>\n",
       "      <th>sms</th>\n",
       "      <td>33</td>\n",
       "      <td>13</td>\n",
       "      <td>87</td>\n",
       "      <td>149</td>\n",
       "      <td>0</td>\n",
       "      <td>0</td>\n",
       "      <td>0</td>\n",
       "    </tr>\n",
       "  </tbody>\n",
       "</table>\n",
       "</div>"
      ],
      "text/plain": [
       "network  Meteor  Tesco  Three  Vodafone  data  landline  voicemail\n",
       "item                                                              \n",
       "call         54     71    128        66     0        42         27\n",
       "data          0      0      0         0   150         0          0\n",
       "sms          33     13     87       149     0         0          0"
      ]
     },
     "execution_count": 131,
     "metadata": {},
     "output_type": "execute_result"
    }
   ],
   "source": [
    "pd.crosstab(df['item'],df['network'])"
   ]
  },
  {
   "cell_type": "code",
   "execution_count": 132,
   "metadata": {},
   "outputs": [
    {
     "data": {
      "image/png": "[encoded data removed]",
      "text/plain": [
       "<Figure size 1080x576 with 1 Axes>"
      ]
     },
     "metadata": {
      "needs_background": "light"
     },
     "output_type": "display_data"
    }
   ],
   "source": [
    "pd.crosstab(df['item'],df['network']).plot(kind='bar')\n",
    "plt.show()"
   ]
  },
  {
   "cell_type": "code",
   "execution_count": 133,
   "metadata": {},
   "outputs": [
    {
     "data": {
      "text/html": [
       "<div>\n",
       "<style scoped>\n",
       "    .dataframe tbody tr th:only-of-type {\n",
       "        vertical-align: middle;\n",
       "    }\n",
       "\n",
       "    .dataframe tbody tr th {\n",
       "        vertical-align: top;\n",
       "    }\n",
       "\n",
       "    .dataframe thead th {\n",
       "        text-align: right;\n",
       "    }\n",
       "</style>\n",
       "<table border=\"1\" class=\"dataframe\">\n",
       "  <thead>\n",
       "    <tr style=\"text-align: right;\">\n",
       "      <th>network_type</th>\n",
       "      <th>data</th>\n",
       "      <th>landline</th>\n",
       "      <th>mobile</th>\n",
       "      <th>voicemail</th>\n",
       "    </tr>\n",
       "    <tr>\n",
       "      <th>item</th>\n",
       "      <th></th>\n",
       "      <th></th>\n",
       "      <th></th>\n",
       "      <th></th>\n",
       "    </tr>\n",
       "  </thead>\n",
       "  <tbody>\n",
       "    <tr>\n",
       "      <th>call</th>\n",
       "      <td>0</td>\n",
       "      <td>42</td>\n",
       "      <td>319</td>\n",
       "      <td>27</td>\n",
       "    </tr>\n",
       "    <tr>\n",
       "      <th>data</th>\n",
       "      <td>150</td>\n",
       "      <td>0</td>\n",
       "      <td>0</td>\n",
       "      <td>0</td>\n",
       "    </tr>\n",
       "    <tr>\n",
       "      <th>sms</th>\n",
       "      <td>0</td>\n",
       "      <td>0</td>\n",
       "      <td>282</td>\n",
       "      <td>0</td>\n",
       "    </tr>\n",
       "  </tbody>\n",
       "</table>\n",
       "</div>"
      ],
      "text/plain": [
       "network_type  data  landline  mobile  voicemail\n",
       "item                                           \n",
       "call             0        42     319         27\n",
       "data           150         0       0          0\n",
       "sms              0         0     282          0"
      ]
     },
     "execution_count": 133,
     "metadata": {},
     "output_type": "execute_result"
    }
   ],
   "source": [
    "pd.crosstab(df['item'],df['network_type'])"
   ]
  },
  {
   "cell_type": "code",
   "execution_count": 134,
   "metadata": {},
   "outputs": [
    {
     "data": {
      "image/png": "[encoded data removed]",
      "text/plain": [
       "<Figure size 1080x576 with 1 Axes>"
      ]
     },
     "metadata": {
      "needs_background": "light"
     },
     "output_type": "display_data"
    }
   ],
   "source": [
    "pd.crosstab(df['item'],df['network_type']).plot(kind='bar')\n",
    "plt.show()"
   ]
  },
  {
   "cell_type": "code",
   "execution_count": 135,
   "metadata": {},
   "outputs": [
    {
     "data": {
      "text/html": [
       "<div>\n",
       "<style scoped>\n",
       "    .dataframe tbody tr th:only-of-type {\n",
       "        vertical-align: middle;\n",
       "    }\n",
       "\n",
       "    .dataframe tbody tr th {\n",
       "        vertical-align: top;\n",
       "    }\n",
       "\n",
       "    .dataframe thead th {\n",
       "        text-align: right;\n",
       "    }\n",
       "</style>\n",
       "<table border=\"1\" class=\"dataframe\">\n",
       "  <thead>\n",
       "    <tr style=\"text-align: right;\">\n",
       "      <th>network_type</th>\n",
       "      <th>data</th>\n",
       "      <th>landline</th>\n",
       "      <th>mobile</th>\n",
       "      <th>voicemail</th>\n",
       "    </tr>\n",
       "    <tr>\n",
       "      <th>network</th>\n",
       "      <th></th>\n",
       "      <th></th>\n",
       "      <th></th>\n",
       "      <th></th>\n",
       "    </tr>\n",
       "  </thead>\n",
       "  <tbody>\n",
       "    <tr>\n",
       "      <th>Meteor</th>\n",
       "      <td>0</td>\n",
       "      <td>0</td>\n",
       "      <td>87</td>\n",
       "      <td>0</td>\n",
       "    </tr>\n",
       "    <tr>\n",
       "      <th>Tesco</th>\n",
       "      <td>0</td>\n",
       "      <td>0</td>\n",
       "      <td>84</td>\n",
       "      <td>0</td>\n",
       "    </tr>\n",
       "    <tr>\n",
       "      <th>Three</th>\n",
       "      <td>0</td>\n",
       "      <td>0</td>\n",
       "      <td>215</td>\n",
       "      <td>0</td>\n",
       "    </tr>\n",
       "    <tr>\n",
       "      <th>Vodafone</th>\n",
       "      <td>0</td>\n",
       "      <td>0</td>\n",
       "      <td>215</td>\n",
       "      <td>0</td>\n",
       "    </tr>\n",
       "    <tr>\n",
       "      <th>data</th>\n",
       "      <td>150</td>\n",
       "      <td>0</td>\n",
       "      <td>0</td>\n",
       "      <td>0</td>\n",
       "    </tr>\n",
       "    <tr>\n",
       "      <th>landline</th>\n",
       "      <td>0</td>\n",
       "      <td>42</td>\n",
       "      <td>0</td>\n",
       "      <td>0</td>\n",
       "    </tr>\n",
       "    <tr>\n",
       "      <th>voicemail</th>\n",
       "      <td>0</td>\n",
       "      <td>0</td>\n",
       "      <td>0</td>\n",
       "      <td>27</td>\n",
       "    </tr>\n",
       "  </tbody>\n",
       "</table>\n",
       "</div>"
      ],
      "text/plain": [
       "network_type  data  landline  mobile  voicemail\n",
       "network                                        \n",
       "Meteor           0         0      87          0\n",
       "Tesco            0         0      84          0\n",
       "Three            0         0     215          0\n",
       "Vodafone         0         0     215          0\n",
       "data           150         0       0          0\n",
       "landline         0        42       0          0\n",
       "voicemail        0         0       0         27"
      ]
     },
     "execution_count": 135,
     "metadata": {},
     "output_type": "execute_result"
    }
   ],
   "source": [
    "pd.crosstab(df['network'],df['network_type'])"
   ]
  },
  {
   "cell_type": "code",
   "execution_count": 136,
   "metadata": {},
   "outputs": [
    {
     "data": {
      "image/png": "[encoded data removed]",
      "text/plain": [
       "<Figure size 1080x576 with 1 Axes>"
      ]
     },
     "metadata": {
      "needs_background": "light"
     },
     "output_type": "display_data"
    }
   ],
   "source": [
    "pd.crosstab(df['network'],df['network_type']).plot(kind='bar')\n",
    "plt.show()"
   ]
  },
  {
   "cell_type": "markdown",
   "metadata": {},
   "source": [
    "# Stats"
   ]
  },
  {
   "cell_type": "code",
   "execution_count": 137,
   "metadata": {},
   "outputs": [],
   "source": [
    "# a) With 95% & 99% Confidence Interval find the range estimate of average duration calls made by all the network. Which of the \n",
    "# Intervals are wider? Interpret the results."
   ]
  },
  {
   "cell_type": "code",
   "execution_count": 138,
   "metadata": {},
   "outputs": [
    {
     "name": "stdout",
     "output_type": "stream",
     "text": [
      "Confidence Interval: (141.1778397288302, 147.4320313908407)\n",
      "Difference: 6.2541916620104985\n"
     ]
    }
   ],
   "source": [
    "n=len(df['duration'])\n",
    "xbar=np.mean(df['duration'])\n",
    "sigma=np.std(df['duration'],ddof=1)\n",
    "se=sigma/np.sqrt(n)\n",
    "print(\"Confidence Interval:\",stats.norm.interval(0.95,loc=xbar,scale=se))\n",
    "UL=stats.norm.isf(0.025,loc=xbar,scale=se)\n",
    "LL=stats.norm.isf(0.975,loc=xbar,scale=se)\n",
    "print(\"Difference:\",UL-LL)"
   ]
  },
  {
   "cell_type": "code",
   "execution_count": 139,
   "metadata": {},
   "outputs": [
    {
     "name": "stdout",
     "output_type": "stream",
     "text": [
      "Confidence Interval: (140.19523500408818, 148.41463611558274)\n",
      "Difference: 8.219401111494562\n"
     ]
    }
   ],
   "source": [
    "n=len(df['duration'])\n",
    "xbar=np.mean(df['duration'])\n",
    "sigma=np.std(df['duration'],ddof=1)\n",
    "se=sigma/np.sqrt(n)\n",
    "print(\"Confidence Interval:\",stats.norm.interval(0.99,loc=xbar,scale=se))\n",
    "UL=stats.norm.isf(0.005,loc=xbar,scale=se)\n",
    "LL=stats.norm.isf(0.995,loc=xbar,scale=se)\n",
    "print(\"Difference:\",UL-LL)"
   ]
  },
  {
   "cell_type": "markdown",
   "metadata": {},
   "source": [
    "* 99% confidence interval has wider interval as the difference between UL and LL is 8.2 which is higher than that of 95% CI which is 6.25."
   ]
  },
  {
   "cell_type": "code",
   "execution_count": 140,
   "metadata": {},
   "outputs": [],
   "source": [
    "# b) Perform statistical analysis to check whether the networks are equally distributed in the dataset"
   ]
  },
  {
   "cell_type": "markdown",
   "metadata": {},
   "source": [
    "The null and alternate hypothesis are given as:\n",
    "    \n",
    "H<sub>0</sub>:The networks are equally distributed. <br>\n",
    "H<sub>1</sub>:The networks are not equally distributed."
   ]
  },
  {
   "cell_type": "code",
   "execution_count": 141,
   "metadata": {},
   "outputs": [
    {
     "name": "stdout",
     "output_type": "stream",
     "text": [
      "820\n",
      "[215, 215, 150, 87, 84, 1, 27]\n",
      "[111.28571429 111.28571429 111.28571429 111.28571429 111.28571429\n",
      " 111.28571429 111.28571429]\n",
      "Test-statistic: 391.9050064184852\n",
      "P-value: 1.5367858430249985e-81\n",
      "As P-value is extremely small than alpha, we can say that the networks are not equally distributed in the dataset.\n"
     ]
    }
   ],
   "source": [
    "print(len(df['network']))\n",
    "three=len(df[df['network']=='Three'])\n",
    "voda=len(df[df['network']=='Vodafone'])\n",
    "data=len(df[df['network']=='data'])\n",
    "met=len(df[df['network']=='Meteor'])\n",
    "tes=len(df[df['network']=='Tesco'])\n",
    "land=len([df['network']=='landline'])\n",
    "voice=len(df[df['network']=='voicemail'])\n",
    "observed_value=[three,voda,data,met,tes,land,voice]\n",
    "print(observed_value)\n",
    "expected_value=np.array([(np.mean(observed_value))]*7)\n",
    "print(expected_value)\n",
    "stat,pvalue=chisquare(f_obs=observed_value,f_exp=expected_value)\n",
    "print(\"Test-statistic:\",stat)\n",
    "print(\"P-value:\",pvalue)\n",
    "print(\"As P-value is extremely small than alpha, we can say that the networks are not equally distributed in the dataset.\")"
   ]
  },
  {
   "cell_type": "code",
   "execution_count": 142,
   "metadata": {},
   "outputs": [],
   "source": [
    "# c) Plot the distribution of duration with respect to each network in the same graph and Interpret the results from the graph."
   ]
  },
  {
   "cell_type": "code",
   "execution_count": 143,
   "metadata": {},
   "outputs": [
    {
     "data": {
      "image/png": "[encoded data removed]",
      "text/plain": [
       "<Figure size 1080x576 with 1 Axes>"
      ]
     },
     "metadata": {
      "needs_background": "light"
     },
     "output_type": "display_data"
    }
   ],
   "source": [
    "sns.barplot(df['network'],df['duration'])\n",
    "plt.show()"
   ]
  },
  {
   "cell_type": "code",
   "execution_count": 144,
   "metadata": {},
   "outputs": [],
   "source": [
    "# 1)According to the graph, the duration of voicemail is highest on an average  and the duration of Tesco, Three , Vodafone,data \n",
    "#and landline are almost the same.\n",
    "# 2)The duration of Meteor is least of all but still there isn't not much noticable different according to the graph."
   ]
  },
  {
   "cell_type": "code",
   "execution_count": 145,
   "metadata": {},
   "outputs": [
    {
     "data": {
      "text/plain": [
       "network\n",
       "Meteor       139.757012\n",
       "Tesco        145.287504\n",
       "Three        141.457941\n",
       "Vodafone     149.606272\n",
       "data         140.968643\n",
       "landline     141.617641\n",
       "voicemail    159.073841\n",
       "Name: duration, dtype: float64"
      ]
     },
     "execution_count": 145,
     "metadata": {},
     "output_type": "execute_result"
    }
   ],
   "source": [
    "df.groupby('network')['duration'].mean()"
   ]
  },
  {
   "cell_type": "code",
   "execution_count": 146,
   "metadata": {},
   "outputs": [
    {
     "data": {
      "text/plain": [
       "array(['data', 'Vodafone', 'Meteor', 'Tesco', 'Three', 'voicemail',\n",
       "       'landline'], dtype=object)"
      ]
     },
     "execution_count": 146,
     "metadata": {},
     "output_type": "execute_result"
    }
   ],
   "source": [
    "df['network'].unique()"
   ]
  },
  {
   "cell_type": "code",
   "execution_count": 170,
   "metadata": {},
   "outputs": [
    {
     "name": "stdout",
     "output_type": "stream",
     "text": [
      "F_onewayResult(statistic=1.403649779200122, pvalue=0.2102939953009413)\n",
      "P-value more than alpha. Hence we fail to reject null hypothesis. The network and duration are independent of each other.\n"
     ]
    }
   ],
   "source": [
    "voda=df[df['network']=='Vodafone']['duration']\n",
    "three=df[df['network']=='Three']['duration']\n",
    "data=df[df['network']=='data']['duration']\n",
    "met=df[df['network']=='Meteor']['duration']\n",
    "tes=df[df['network']=='Tesco']['duration']\n",
    "voice=df[df['network']=='voicemail']['duration']\n",
    "land=df[df['network']=='landline']['duration']\n",
    "print(f_oneway(voda,three,data,met,tes,voice,land))\n",
    "print(\"P-value more than alpha. Hence we fail to reject null hypothesis. The network and duration are independent of each other.\")"
   ]
  },
  {
   "cell_type": "code",
   "execution_count": 148,
   "metadata": {},
   "outputs": [],
   "source": [
    "# d) Perform statistical tests to identify the relation between item and duration. Detailed explanation of relation between the \n",
    "# classes is required."
   ]
  },
  {
   "cell_type": "markdown",
   "metadata": {},
   "source": [
    "The null and alternate hypothesis are given as:\n",
    "    \n",
    "H<sub>0</sub>:The item and duration are independent.<br>\n",
    "H<sub>1</sub>:The item and duration are dependent."
   ]
  },
  {
   "cell_type": "code",
   "execution_count": 149,
   "metadata": {},
   "outputs": [
    {
     "data": {
      "text/plain": [
       "call    388\n",
       "sms     282\n",
       "data    150\n",
       "Name: item, dtype: int64"
      ]
     },
     "execution_count": 149,
     "metadata": {},
     "output_type": "execute_result"
    }
   ],
   "source": [
    "df['item'].value_counts()"
   ]
  },
  {
   "cell_type": "code",
   "execution_count": 150,
   "metadata": {},
   "outputs": [],
   "source": [
    "from statsmodels.formula.api import ols\n",
    "from statsmodels.stats.anova import anova_lm"
   ]
  },
  {
   "cell_type": "code",
   "execution_count": 151,
   "metadata": {},
   "outputs": [
    {
     "name": "stdout",
     "output_type": "stream",
     "text": [
      "ShapiroResult(statistic=0.9973040819168091, pvalue=0.7803040742874146)\n",
      "ShapiroResult(statistic=0.9943404197692871, pvalue=0.37839275598526)\n",
      "ShapiroResult(statistic=0.9912641048431396, pvalue=0.4852308928966522)\n",
      "LeveneResult(statistic=3.4300976447008424, pvalue=0.03285087780533987)\n"
     ]
    },
    {
     "data": {
      "text/plain": [
       "F_onewayResult(statistic=1.9313964906864993, pvalue=0.1456068656611744)"
      ]
     },
     "execution_count": 151,
     "metadata": {},
     "output_type": "execute_result"
    }
   ],
   "source": [
    "call=df[df['item']=='call']['duration']\n",
    "sms=df[df['item']=='sms']['duration']\n",
    "data=df[df['item']=='data']['duration']\n",
    "print(shapiro(call))\n",
    "print(shapiro(sms))\n",
    "print(shapiro(data))\n",
    "print(levene(call,sms,data))\n",
    "f_oneway(call,sms,data)"
   ]
  },
  {
   "cell_type": "code",
   "execution_count": 152,
   "metadata": {},
   "outputs": [
    {
     "name": "stdout",
     "output_type": "stream",
     "text": [
      "             df        sum_sq      mean_sq         F    PR(>F)\n",
      "item        2.0  8.044792e+03  4022.395964  1.931396  0.145607\n",
      "Residual  817.0  1.701514e+06  2082.636053       NaN       NaN\n"
     ]
    }
   ],
   "source": [
    "test = ols('duration ~ item', df).fit()\n",
    "anova_1 = anova_lm(test, typ = 1)\n",
    "print(anova_1)"
   ]
  },
  {
   "cell_type": "code",
   "execution_count": 153,
   "metadata": {},
   "outputs": [
    {
     "data": {
      "text/html": [
       "<table class=\"simpletable\">\n",
       "<caption>Multiple Comparison of Means - Tukey HSD, FWER=0.05</caption>\n",
       "<tr>\n",
       "  <th>group1</th> <th>group2</th> <th>meandiff</th>  <th>p-adj</th>   <th>lower</th>   <th>upper</th>  <th>reject</th>\n",
       "</tr>\n",
       "<tr>\n",
       "   <td>call</td>   <td>data</td>   <td>-6.6347</td> <td>0.2862</td> <td>-16.9372</td> <td>3.6678</td>   <td>False</td>\n",
       "</tr>\n",
       "<tr>\n",
       "   <td>call</td>    <td>sms</td>   <td>-6.0621</td>  <td>0.207</td> <td>-14.4472</td>  <td>2.323</td>   <td>False</td>\n",
       "</tr>\n",
       "<tr>\n",
       "   <td>data</td>    <td>sms</td>   <td>0.5726</td>    <td>0.9</td>  <td>-10.2563</td> <td>11.4015</td>  <td>False</td>\n",
       "</tr>\n",
       "</table>"
      ],
      "text/plain": [
       "<class 'statsmodels.iolib.table.SimpleTable'>"
      ]
     },
     "execution_count": 153,
     "metadata": {},
     "output_type": "execute_result"
    }
   ],
   "source": [
    "import statsmodels.stats.multicomp as mc\n",
    "comp = mc.MultiComparison(data = df['duration'], groups = df['item'])\n",
    "# tukey's range test\n",
    "# pass the alpha value as 0.05 to get the 95% confidence interval \n",
    "post_hoc = comp.tukeyhsd(alpha = 0.05)\n",
    "# print the summary table\n",
    "post_hoc.summary()"
   ]
  },
  {
   "cell_type": "code",
   "execution_count": 154,
   "metadata": {},
   "outputs": [],
   "source": [
    "# e) Perform statistical tests to identify the relation between network and network_type"
   ]
  },
  {
   "cell_type": "markdown",
   "metadata": {},
   "source": [
    "The null and alternate hypothesis are given as:\n",
    "    \n",
    "H<sub>0</sub>:There's no relationship between network and network type.<br>\n",
    "H<sub>1</sub>:There network and network type are related to each other."
   ]
  },
  {
   "cell_type": "code",
   "execution_count": 155,
   "metadata": {},
   "outputs": [
    {
     "name": "stdout",
     "output_type": "stream",
     "text": [
      "Test-statistic: 2460.0\n",
      "P-value: 0.0\n",
      "P-value is zero. There is no relationship between the network and network type\n"
     ]
    }
   ],
   "source": [
    "table=pd.crosstab(df['network'],df['network_type'])\n",
    "observed_values=table.values\n",
    "test_stat,pvalue,ddof,expected=chi2_contingency(observed=observed_values)\n",
    "print(\"Test-statistic:\",test_stat)\n",
    "print(\"P-value:\",pvalue)\n",
    "print(\"P-value is zero. There is no relationship between the network and network type\")"
   ]
  },
  {
   "cell_type": "code",
   "execution_count": null,
   "metadata": {},
   "outputs": [],
   "source": []
  },
  {
   "cell_type": "code",
   "execution_count": null,
   "metadata": {},
   "outputs": [],
   "source": []
  }
 ],
 "metadata": {
  "kernelspec": {
   "display_name": "Python 3",
   "language": "python",
   "name": "python3"
  },
  "language_info": {
   "codemirror_mode": {
    "name": "ipython",
    "version": 3
   },
   "file_extension": ".py",
   "mimetype": "text/x-python",
   "name": "python",
   "nbconvert_exporter": "python",
   "pygments_lexer": "ipython3",
   "version": "3.8.8"
  }
 },
 "nbformat": 4,
 "nbformat_minor": 4
}
